{
  "cells": [
    {
      "cell_type": "markdown",
      "metadata": {
        "id": "yIYpbX7piBcs"
      },
      "source": [
        "# Preworkout"
      ]
    },
    {
      "cell_type": "code",
      "execution_count": null,
      "metadata": {
        "id": "_64b9JgWdlwo"
      },
      "outputs": [],
      "source": [
        "import os\n",
        "import random\n",
        "import numpy as np\n",
        "import tensorflow as tf\n",
        "from tensorflow.keras import Model\n",
        "from tensorflow.keras.applications import vgg16\n",
        "from sklearn.decomposition import PCA"
      ]
    },
    {
      "cell_type": "code",
      "execution_count": null,
      "metadata": {
        "colab": {
          "base_uri": "https://localhost:8080/"
        },
        "id": "Xaxyyu8udo8c",
        "outputId": "78ccf4b8-8b52-4cb6-c77f-eb6f7b4eade1"
      },
      "outputs": [
        {
          "name": "stdout",
          "output_type": "stream",
          "text": [
            "Mounted at /content/drive\n"
          ]
        }
      ],
      "source": [
        "from google.colab import drive\n",
        "drive.mount(\"/content/drive\")"
      ]
    },
    {
      "cell_type": "code",
      "execution_count": null,
      "metadata": {
        "id": "8XnZoFvrdqtR"
      },
      "outputs": [],
      "source": [
        "!unzip -q /content/drive/MyDrive/datasets/unbalanced_dataset_2304.zip"
      ]
    },
    {
      "cell_type": "markdown",
      "metadata": {
        "id": "JnQxw8O8iJZv"
      },
      "source": [
        "# Model"
      ]
    },
    {
      "cell_type": "code",
      "execution_count": null,
      "metadata": {
        "colab": {
          "base_uri": "https://localhost:8080/"
        },
        "id": "zLmPti67eKAu",
        "outputId": "34d4d116-ffcd-4670-e9ab-47afb1f55a5d"
      },
      "outputs": [
        {
          "name": "stdout",
          "output_type": "stream",
          "text": [
            "Downloading data from https://storage.googleapis.com/tensorflow/keras-applications/vgg16/vgg16_weights_tf_dim_ordering_tf_kernels.h5\n",
            "553467904/553467096 [==============================] - 3s 0us/step\n",
            "553476096/553467096 [==============================] - 3s 0us/step\n"
          ]
        }
      ],
      "source": [
        "model = vgg16.VGG16(weights='imagenet', include_top=True)"
      ]
    },
    {
      "cell_type": "code",
      "execution_count": null,
      "metadata": {
        "id": "Tknv8HKseZ76"
      },
      "outputs": [],
      "source": [
        "feat_extractor = Model(inputs=model.input, outputs=model.get_layer(\"fc2\").output)\n"
      ]
    },
    {
      "cell_type": "markdown",
      "metadata": {
        "id": "XFu7I0aJiMTG"
      },
      "source": [
        "# Evaluate"
      ]
    },
    {
      "cell_type": "markdown",
      "metadata": {
        "id": "bOlYqss5iWHz"
      },
      "source": [
        "## test dataset"
      ]
    },
    {
      "cell_type": "code",
      "execution_count": null,
      "metadata": {
        "colab": {
          "base_uri": "https://localhost:8080/"
        },
        "id": "nc3JsIjsdYC9",
        "outputId": "f76d40a4-6932-4275-dd43-b078905495ba"
      },
      "outputs": [
        {
          "name": "stdout",
          "output_type": "stream",
          "text": [
            "Loaded 8777 images from /content/unbalanced_dataset_2304/validation/gallery/ \n",
            "Loaded 2236 images from /content/unbalanced_dataset_2304/validation/query/ \n"
          ]
        }
      ],
      "source": [
        "import utils\n",
        "GALLERY_PATH = \"/content/unbalanced_dataset_2304/validation/gallery/\"\n",
        "QUERY_PATH = \"/content/unbalanced_dataset_2304/validation/query/\"\n",
        "\n",
        "target_shape = (224, 224)\n",
        "\n",
        "gallery = utils.Dataset(GALLERY_PATH, target_shape = target_shape).get_dataset()\n",
        "query = utils.Dataset(QUERY_PATH, target_shape = target_shape).get_dataset()\n",
        "\n"
      ]
    },
    {
      "cell_type": "markdown",
      "metadata": {
        "id": "lxD4CL45iZEV"
      },
      "source": [
        "## extract features"
      ]
    },
    {
      "cell_type": "code",
      "execution_count": null,
      "metadata": {
        "id": "-C_0gLUxelkt"
      },
      "outputs": [],
      "source": [
        "query_features, query_urls, query_labels = utils.compute_features(query, feat_extractor)\n",
        "pca = PCA(n_components=300)\n",
        "pca.fit(query_features)\n",
        "query_pca_features = pca.transform(query_features)"
      ]
    },
    {
      "cell_type": "code",
      "execution_count": null,
      "metadata": {
        "id": "4h5Dtn0PhGtr"
      },
      "outputs": [],
      "source": [
        "gallery_features, gallery_urls, gallery_labels = utils.compute_features(gallery, feat_extractor)\n",
        "pca = PCA(n_components=300)\n",
        "pca.fit(gallery_features)\n",
        "gallery_pca_features = pca.transform(gallery_features)"
      ]
    },
    {
      "cell_type": "markdown",
      "metadata": {
        "id": "suH2dIvmib9h"
      },
      "source": [
        "## compute results "
      ]
    },
    {
      "cell_type": "code",
      "execution_count": null,
      "metadata": {
        "colab": {
          "base_uri": "https://localhost:8080/"
        },
        "id": "mDFBspa9ho4R",
        "outputId": "6abe8d72-7ed4-4344-cc65-65d472494158"
      },
      "outputs": [],
      "source": [
        "results = utils.compute_results(query_pca_features, gallery_pca_features, query_urls, gallery_urls)"
      ]
    },
    {
      "cell_type": "code",
      "execution_count": null,
      "metadata": {
        "colab": {
          "base_uri": "https://localhost:8080/"
        },
        "id": "RPh2jtlVh8rB",
        "outputId": "6a8c3fe8-27c6-491a-cf1d-3dd6631e33d8"
      },
      "outputs": [],
      "source": [
        "utils.evaluate(results, query_labels, gallery_labels)"
      ]
    }
  ],
  "metadata": {
    "accelerator": "GPU",
    "colab": {
      "collapsed_sections": [],
      "name": "Ale_VGG_PCA.ipynb",
      "provenance": []
    },
    "kernelspec": {
      "display_name": "Python 3",
      "name": "python3"
    },
    "language_info": {
      "name": "python"
    }
  },
  "nbformat": 4,
  "nbformat_minor": 0
}
