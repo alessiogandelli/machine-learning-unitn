{
  "cells": [
    {
      "cell_type": "code",
      "execution_count": 22,
      "metadata": {
        "id": "939AqJQ5MwCZ"
      },
      "outputs": [],
      "source": [
        "import tensorflow as tf \n",
        "from keras.models import Model\n",
        "import os\n",
        "import os\n",
        "import keras\n",
        "from keras.preprocessing import image\n",
        "from keras.applications.imagenet_utils import decode_predictions, preprocess_input\n",
        "from keras.models import Model\n",
        "import numpy as np\n",
        "import matplotlib.pyplot as plt\n",
        "import time\n",
        "from sklearn.decomposition import PCA\n",
        "import random\n",
        "from scipy.spatial import distance\n",
        "from pprint import pprint"
      ]
    },
    {
      "cell_type": "code",
      "execution_count": null,
      "metadata": {
        "colab": {
          "base_uri": "https://localhost:8080/"
        },
        "id": "fDqK2TEmMVT8",
        "outputId": "9deb6a05-ff6d-44bc-f3e0-bf3b9cde3fbe"
      },
      "outputs": [
        {
          "name": "stdout",
          "output_type": "stream",
          "text": [
            "Mounted at /content/drive\n"
          ]
        }
      ],
      "source": [
        "from google.colab import drive\n",
        "drive.mount(\"/content/drive\")"
      ]
    },
    {
      "cell_type": "code",
      "execution_count": null,
      "metadata": {
        "id": "m09bCOc3N4l9"
      },
      "outputs": [],
      "source": [
        "!unzip -q /content/drive/MyDrive/challenge_test_data.zip"
      ]
    },
    {
      "cell_type": "code",
      "execution_count": null,
      "metadata": {
        "id": "KgyYqquqMy0X"
      },
      "outputs": [],
      "source": [
        "model = tf.keras.applications.efficientnet.EfficientNetB7(weights='imagenet', include_top=True)"
      ]
    },
    {
      "cell_type": "code",
      "execution_count": null,
      "metadata": {
        "colab": {
          "base_uri": "https://localhost:8080/"
        },
        "id": "05Ipssl_NKj1",
        "outputId": "ee5ec3e9-150b-4f03-8e2c-0f5e220c8175"
      },
      "outputs": [],
      "source": [
        "model.summary()"
      ]
    },
    {
      "cell_type": "code",
      "execution_count": null,
      "metadata": {
        "id": "MMea671gNE1D"
      },
      "outputs": [],
      "source": [
        "feat_extractor = Model(inputs=model.input, outputs=model.get_layer(\"avg_pool\").output)\n",
        "\n",
        "\n",
        "GALLERY_PATH = '/content/gallery/'\n",
        "QUERY_PATH = '/content/query/'"
      ]
    },
    {
      "cell_type": "code",
      "execution_count": null,
      "metadata": {},
      "outputs": [],
      "source": [
        "import utils\n",
        "target_shape = (256, 256)\n",
        "\n",
        "gallery = utils.Dataset(data_path=GALLERY_PATH).get_dataset()\n",
        "query = utils.Dataset(data_path=QUERY_PATH).get_dataset()"
      ]
    },
    {
      "cell_type": "code",
      "execution_count": null,
      "metadata": {},
      "outputs": [],
      "source": [
        "import utils\n",
        "gallery_features, gallery_urls, gallery_labels = utils.compute_features(gallery, feat_extractor)\n",
        "query_features, query_urls, query_labels = utils.compute_features(query, feat_extractor)\n",
        "\n",
        "results_eu = utils.compute_results(query_features, gallery_features, query_urls, gallery_urls)\n",
        "results_cos = utils.compute_results(query_features, gallery_features, query_urls, gallery_urls, dist= 'cosine')"
      ]
    },
    {
      "cell_type": "code",
      "execution_count": null,
      "metadata": {
        "colab": {
          "base_uri": "https://localhost:8080/",
          "height": 346
        },
        "id": "iwtQmdowOwKk",
        "outputId": "f04ffc4d-8c3f-4646-aa1d-d055cc5ec6ea"
      },
      "outputs": [],
      "source": [
        "import requests\n",
        "import json\n",
        "\n",
        "\n",
        "def submit(results, url=\"http://tinyurl.com/IML2022\"):\n",
        "    res = json.dumps(results)\n",
        "    response = requests.post(url, res)\n",
        "    try:\n",
        "        result = json.loads(response.text)\n",
        "        print(f\"accuracy is {result['results']}\")\n",
        "    except json.JSONDecodeError:\n",
        "        print(f\"ERROR: {response.text}\")\n",
        "\n",
        "\n",
        "\n",
        "mydata = dict()\n",
        "mydata['groupname'] = \"The Ostriches\"\n",
        "\n",
        "mydata[\"images\"] = results_eu\n",
        "submit(mydata)\n",
        "\n",
        "mydata[\"images\"] = results_cos\n",
        "submit(mydata)"
      ]
    },
    {
      "cell_type": "markdown",
      "metadata": {
        "id": "08VuwV9cvg39"
      },
      "source": [
        "accuracy is [0.5846153846153846, 0.676923076923077, 0.676923076923077"
      ]
    }
  ],
  "metadata": {
    "accelerator": "GPU",
    "colab": {
      "collapsed_sections": [],
      "name": "Challenge_Carlo_EfficientNet_B7.ipynb",
      "provenance": []
    },
    "kernelspec": {
      "display_name": "Python 3",
      "name": "python3"
    },
    "language_info": {
      "name": "python"
    }
  },
  "nbformat": 4,
  "nbformat_minor": 0
}
