{
  "cells": [
    {
      "cell_type": "markdown",
      "metadata": {
        "id": "z15DP5jQ8BeR"
      },
      "source": [
        "##preliminary activities"
      ]
    },
    {
      "cell_type": "code",
      "execution_count": null,
      "metadata": {
        "id": "OyR9e2T77898"
      },
      "outputs": [],
      "source": [
        "import numpy as np\n",
        "import tensorflow as tf\n",
        "import matplotlib.pyplot as plt\n",
        "import pandas as pd\n",
        "from tensorflow import keras\n",
        "from tensorflow.keras.models import Model\n",
        "from tensorflow.keras import layers\n",
        "\n",
        "%matplotlib inline"
      ]
    },
    {
      "cell_type": "code",
      "execution_count": null,
      "metadata": {
        "colab": {
          "base_uri": "https://localhost:8080/"
        },
        "id": "M3T-I6JL8JMr",
        "outputId": "77df95d2-fe5c-485b-e783-7cce552933d3"
      },
      "outputs": [
        {
          "name": "stdout",
          "output_type": "stream",
          "text": [
            "Mounted at /content/drive\n"
          ]
        }
      ],
      "source": [
        "from google.colab import drive\n",
        "drive.mount('/content/drive', force_remount = True)"
      ]
    },
    {
      "cell_type": "code",
      "execution_count": null,
      "metadata": {
        "colab": {
          "base_uri": "https://localhost:8080/"
        },
        "id": "8UTr7tMT8RE5",
        "outputId": "3efa52c3-53f1-41b2-b891-a026d2dbf6d4"
      },
      "outputs": [
        {
          "name": "stdout",
          "output_type": "stream",
          "text": [
            "replace unbalanced_dataset_2304/training/antelope/1d3c6105c9.jpg? [y]es, [n]o, [A]ll, [N]one, [r]ename: N\n"
          ]
        }
      ],
      "source": [
        "!unzip -q \"/content/drive/MyDrive/datasets/unbalanced_dataset_2304.zip\""
      ]
    },
    {
      "cell_type": "markdown",
      "metadata": {
        "id": "UlF8Tmzximm1"
      },
      "source": [
        "#Dataset"
      ]
    },
    {
      "cell_type": "code",
      "execution_count": null,
      "metadata": {
        "id": "A_unG3AP8gl4"
      },
      "outputs": [],
      "source": [
        "#dimensions for height, width and batch size\n",
        "image_size = (224,224)\n",
        "epochs = 10\n",
        "batch_size = 32\n",
        "data_dir = '/content/unbalanced_dataset_2304/training'"
      ]
    },
    {
      "cell_type": "code",
      "execution_count": null,
      "metadata": {
        "colab": {
          "base_uri": "https://localhost:8080/"
        },
        "id": "ODZXW2yta3bO",
        "outputId": "c03fe003-41c4-4145-f042-0bf7956ea63d"
      },
      "outputs": [
        {
          "name": "stdout",
          "output_type": "stream",
          "text": [
            "Found 33004 files belonging to 101 classes.\n",
            "Using 26404 files for training.\n",
            "Found 33004 files belonging to 101 classes.\n",
            "Using 6600 files for validation.\n"
          ]
        }
      ],
      "source": [
        "train_ds = tf.keras.utils.image_dataset_from_directory(\n",
        "  data_dir,\n",
        "  validation_split=0.2,\n",
        "  subset=\"training\",\n",
        "  seed=123,\n",
        "  image_size=image_size,\n",
        "  batch_size=batch_size)\n",
        "\n",
        "\n",
        "val_ds = tf.keras.utils.image_dataset_from_directory(\n",
        "  data_dir,\n",
        "  validation_split=0.2,\n",
        "  subset=\"validation\",\n",
        "  seed=123,\n",
        "  image_size=image_size,\n",
        "  batch_size=batch_size)"
      ]
    },
    {
      "cell_type": "markdown",
      "metadata": {
        "id": "-1xYD11A-nGN"
      },
      "source": [
        "#model"
      ]
    },
    {
      "cell_type": "code",
      "execution_count": null,
      "metadata": {
        "id": "Dj5EcBgfnWsu"
      },
      "outputs": [],
      "source": [
        "def get_model(image_size):\n",
        "  base_model = tf.keras.applications.efficientnet.EfficientNetB0(include_top=False,weights='imagenet')\n",
        "  base_model.trainable = False\n",
        "\n",
        "  normalization_layer = layers.Rescaling(1./255)\n",
        "\n",
        "  inputs = layers.Input(shape = image_size+ (3,), name='inputLayer')\n",
        "  x = base_model(inputs, training = False)\n",
        "  x = layers.GlobalAveragePooling2D(name='poolingLayer')(x)\n",
        "  x = layers.Dropout(0.6)(x)\n",
        "  x = layers.Dense(101, name='outputLayer')(x)\n",
        "  outputs = layers.Activation(activation=\"softmax\",  name='activationLayer')(x)\n",
        "\n",
        "  model = tf.keras.Model(inputs, outputs, name = \"FeatureExtractionModel\")\n",
        "  return model"
      ]
    },
    {
      "cell_type": "code",
      "execution_count": null,
      "metadata": {
        "colab": {
          "base_uri": "https://localhost:8080/"
        },
        "id": "rf7wr4aCQiXn",
        "outputId": "55552747-92da-4cc0-bef3-20d933350889"
      },
      "outputs": [
        {
          "name": "stdout",
          "output_type": "stream",
          "text": [
            "Model: \"FeatureExtractionModel\"\n",
            "_________________________________________________________________\n",
            " Layer (type)                Output Shape              Param #   \n",
            "=================================================================\n",
            " inputLayer (InputLayer)     [(None, 224, 224, 3)]     0         \n",
            "                                                                 \n",
            " efficientnetb0 (Functional)  (None, None, None, 1280)  4049571  \n",
            "                                                                 \n",
            " poolingLayer (GlobalAverage  (None, 1280)             0         \n",
            " Pooling2D)                                                      \n",
            "                                                                 \n",
            " dropout (Dropout)           (None, 1280)              0         \n",
            "                                                                 \n",
            " outputLayer (Dense)         (None, 101)               129381    \n",
            "                                                                 \n",
            " activationLayer (Activation  (None, 101)              0         \n",
            " )                                                               \n",
            "                                                                 \n",
            "=================================================================\n",
            "Total params: 4,178,952\n",
            "Trainable params: 129,381\n",
            "Non-trainable params: 4,049,571\n",
            "_________________________________________________________________\n"
          ]
        }
      ],
      "source": [
        "model = get_model(image_size)\n",
        "model.summary()"
      ]
    },
    {
      "cell_type": "code",
      "execution_count": null,
      "metadata": {
        "id": "FMwp9hhsHb3S"
      },
      "outputs": [],
      "source": [
        "model.compile(optimizer='adam',\n",
        "              loss=tf.keras.losses.SparseCategoricalCrossentropy(),\n",
        "              metrics=['accuracy'])"
      ]
    },
    {
      "cell_type": "code",
      "execution_count": null,
      "metadata": {
        "colab": {
          "base_uri": "https://localhost:8080/"
        },
        "id": "jXY48eA8HdVR",
        "outputId": "30408ab4-8e69-4c66-e1db-07851c451e35"
      },
      "outputs": [
        {
          "name": "stdout",
          "output_type": "stream",
          "text": [
            "Epoch 1/10\n",
            "826/826 [==============================] - 144s 154ms/step - loss: 1.2755 - accuracy: 0.7178 - val_loss: 0.5226 - val_accuracy: 0.8588\n",
            "Epoch 2/10\n",
            "826/826 [==============================] - 108s 130ms/step - loss: 0.5520 - accuracy: 0.8469 - val_loss: 0.4333 - val_accuracy: 0.8758\n",
            "Epoch 3/10\n",
            "826/826 [==============================] - 106s 128ms/step - loss: 0.4539 - accuracy: 0.8687 - val_loss: 0.4023 - val_accuracy: 0.8821\n",
            "Epoch 4/10\n",
            "826/826 [==============================] - 106s 127ms/step - loss: 0.4049 - accuracy: 0.8801 - val_loss: 0.3879 - val_accuracy: 0.8850\n",
            "Epoch 5/10\n",
            "826/826 [==============================] - 105s 127ms/step - loss: 0.3713 - accuracy: 0.8882 - val_loss: 0.3801 - val_accuracy: 0.8880\n",
            "Epoch 6/10\n",
            "826/826 [==============================] - 107s 128ms/step - loss: 0.3451 - accuracy: 0.8964 - val_loss: 0.3762 - val_accuracy: 0.8879\n",
            "Epoch 7/10\n",
            "826/826 [==============================] - 105s 127ms/step - loss: 0.3315 - accuracy: 0.8960 - val_loss: 0.3732 - val_accuracy: 0.8911\n",
            "Epoch 8/10\n",
            "826/826 [==============================] - 106s 127ms/step - loss: 0.3140 - accuracy: 0.8989 - val_loss: 0.3707 - val_accuracy: 0.8918\n",
            "Epoch 9/10\n",
            "826/826 [==============================] - 106s 128ms/step - loss: 0.3011 - accuracy: 0.9037 - val_loss: 0.3698 - val_accuracy: 0.8918\n",
            "Epoch 10/10\n",
            "826/826 [==============================] - 105s 126ms/step - loss: 0.2978 - accuracy: 0.9057 - val_loss: 0.3750 - val_accuracy: 0.8923\n"
          ]
        }
      ],
      "source": [
        "history = model.fit(\n",
        "  train_ds,\n",
        "  validation_data = val_ds,\n",
        "  epochs=epochs,\n",
        "  batch_size = 132\n",
        ")"
      ]
    },
    {
      "cell_type": "code",
      "execution_count": null,
      "metadata": {
        "id": "52S5Chsanjpn"
      },
      "outputs": [],
      "source": [
        "def plot_history(history):\n",
        "    acc = history.history['accuracy']\n",
        "    val_acc = history.history['val_accuracy']\n",
        "\n",
        "    loss = history.history['loss']\n",
        "    val_loss = history.history['val_loss']\n",
        "\n",
        "    epochs_range = range(epochs)\n",
        "\n",
        "    plt.figure(figsize=(8, 8))\n",
        "    plt.subplot(1, 2, 1)\n",
        "    plt.plot(epochs_range, acc, label='Training Accuracy')\n",
        "    plt.plot(epochs_range, val_acc, label='Validation Accuracy')\n",
        "    plt.legend(loc='lower right')\n",
        "    plt.title('Training and Validation Accuracy')\n",
        "\n",
        "    plt.subplot(1, 2, 2)\n",
        "    plt.plot(epochs_range, loss, label='Training Loss')\n",
        "    plt.plot(epochs_range, val_loss, label='Validation Loss')\n",
        "    plt.legend(loc='upper right')\n",
        "    plt.title('Training and Validation Loss')\n",
        "    plt.show()"
      ]
    },
    {
      "cell_type": "code",
      "execution_count": null,
      "metadata": {
        "colab": {
          "base_uri": "https://localhost:8080/",
          "height": 499
        },
        "id": "WKVj2RM1uAGg",
        "outputId": "32b6908a-958d-4fe2-d5eb-05cee3baf6ad"
      },
      "outputs": [
        {
          "data": {
            "image/png": "[encoded data removed]",
            "text/plain": [
              "<Figure size 576x576 with 2 Axes>"
            ]
          },
          "metadata": {
            "needs_background": "light"
          },
          "output_type": "display_data"
        }
      ],
      "source": [
        "plot_history(history)"
      ]
    },
    {
      "cell_type": "markdown",
      "metadata": {
        "id": "7DhvX3JN6YAh"
      },
      "source": [
        "# Evaluation"
      ]
    },
    {
      "cell_type": "code",
      "execution_count": null,
      "metadata": {
        "id": "Zm5Dk0gLlwGH"
      },
      "outputs": [],
      "source": [
        "features_extractor = Model(inputs=model.input, outputs=model.get_layer('activationLayer').output)"
      ]
    },
    {
      "cell_type": "code",
      "execution_count": null,
      "metadata": {},
      "outputs": [],
      "source": [
        "import utils\n",
        "GALLERY_PATH = \"/content/gallery/\"\n",
        "QUERY_PATH = \"/content/query/\"\n",
        "\n",
        "gallery = utils.Dataset(data_path=GALLERY_PATH).get_dataset()\n",
        "query = utils.Dataset(data_path=QUERY_PATH).get_dataset()"
      ]
    },
    {
      "cell_type": "code",
      "execution_count": null,
      "metadata": {},
      "outputs": [],
      "source": [
        "gallery_features, gallery_urls, gallery_labels = utils.compute_features(gallery, features_extractor)\n",
        "query_features, query_urls, query_labels = utils.compute_features(query, features_extractor)\n",
        "results = utils.compute_results(query_features, gallery_features, query_urls, gallery_urls)"
      ]
    },
    {
      "cell_type": "code",
      "execution_count": null,
      "metadata": {},
      "outputs": [],
      "source": [
        "utils.evaluate(results, query_labels, gallery_labels)"
      ]
    }
  ],
  "metadata": {
    "accelerator": "GPU",
    "colab": {
      "collapsed_sections": [],
      "name": "Ale_VAE_2022_version4.ipynb",
      "provenance": [],
      "toc_visible": true
    },
    "kernelspec": {
      "display_name": "Python 3",
      "name": "python3"
    },
    "language_info": {
      "name": "python"
    }
  },
  "nbformat": 4,
  "nbformat_minor": 0
}
