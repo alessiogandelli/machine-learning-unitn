{
  "cells": [
    {
      "cell_type": "code",
      "execution_count": null,
      "metadata": {
        "colab": {
          "base_uri": "https://localhost:8080/"
        },
        "id": "fDqK2TEmMVT8",
        "outputId": "88f2823d-0fbc-4c45-95aa-3421b92b6a9f"
      },
      "outputs": [
        {
          "name": "stdout",
          "output_type": "stream",
          "text": [
            "Mounted at /content/drive\n"
          ]
        }
      ],
      "source": [
        "from google.colab import drive\n",
        "drive.mount(\"/content/drive\")"
      ]
    },
    {
      "cell_type": "code",
      "execution_count": null,
      "metadata": {
        "id": "Sj0rrYw5MgTf"
      },
      "outputs": [],
      "source": [
        "!cp drive/MyDrive/utils.py ."
      ]
    },
    {
      "cell_type": "code",
      "execution_count": null,
      "metadata": {
        "id": "m09bCOc3N4l9"
      },
      "outputs": [],
      "source": [
        "!unzip -q /content/drive/MyDrive/datasets/challenge_test_data.zip"
      ]
    },
    {
      "cell_type": "code",
      "execution_count": null,
      "metadata": {
        "id": "939AqJQ5MwCZ"
      },
      "outputs": [],
      "source": [
        "import tensorflow as tf \n",
        "from keras.models import Model\n",
        "import os\n",
        "import os\n",
        "import keras\n",
        "from keras.preprocessing import image\n",
        "from keras.applications.imagenet_utils import decode_predictions, preprocess_input\n",
        "from keras.models import Model\n",
        "import numpy as np\n",
        "import matplotlib.pyplot as plt\n",
        "import time\n",
        "from sklearn.decomposition import PCA\n",
        "import random\n",
        "from scipy.spatial import distance"
      ]
    },
    {
      "cell_type": "code",
      "execution_count": null,
      "metadata": {
        "colab": {
          "base_uri": "https://localhost:8080/"
        },
        "id": "KgyYqquqMy0X",
        "outputId": "1efe7d55-a4ae-4835-8691-f269a436c4d1"
      },
      "outputs": [
        {
          "name": "stdout",
          "output_type": "stream",
          "text": [
            "Downloading data from https://storage.googleapis.com/keras-applications/efficientnetb5.h5\n",
            "123469824/123465288 [==============================] - 2s 0us/step\n",
            "123478016/123465288 [==============================] - 2s 0us/step\n"
          ]
        }
      ],
      "source": [
        "model = tf.keras.applications.efficientnet.EfficientNetB5(weights='imagenet', include_top=True)"
      ]
    },
    {
      "cell_type": "code",
      "execution_count": null,
      "metadata": {
        "colab": {
          "base_uri": "https://localhost:8080/"
        },
        "id": "05Ipssl_NKj1",
        "outputId": "30e9dd66-2de9-4b04-dc4d-fcd38f12ebf6"
      },
      "outputs": [],
      "source": [
        "model.summary()"
      ]
    },
    {
      "cell_type": "code",
      "execution_count": null,
      "metadata": {
        "id": "MMea671gNE1D"
      },
      "outputs": [],
      "source": [
        "feat_extractor = Model(inputs=model.input, outputs=model.get_layer(\"avg_pool\").output)\n",
        "\n",
        "\n",
        "GALLERY_PATH = '/content/gallery/'\n",
        "QUERY_PATH = '/content/query/'"
      ]
    },
    {
      "cell_type": "markdown",
      "metadata": {},
      "source": [
        "# Evaluation"
      ]
    },
    {
      "cell_type": "code",
      "execution_count": null,
      "metadata": {},
      "outputs": [],
      "source": [
        "target_shape = (256, 256)\n",
        "\n",
        "gallery = utils.Dataset(data_path=GALLERY_PATH).get_dataset()\n",
        "query = utils.Dataset(data_path=QUERY_PATH).get_dataset()"
      ]
    },
    {
      "cell_type": "code",
      "execution_count": null,
      "metadata": {},
      "outputs": [],
      "source": [
        "import utils\n",
        "gallery_features, gallery_urls, gallery_labels = utils.compute_features(gallery, feat_extractor)\n",
        "query_features, query_urls, query_labels = utils.compute_features(query, feat_extractor)\n",
        "\n",
        "results_eu = utils.compute_results(query_features, gallery_features, query_urls, gallery_urls)\n",
        "results_cos = utils.compute_results(query_features, gallery_features, query_urls, gallery_urls, dist= 'cosine')"
      ]
    },
    {
      "cell_type": "code",
      "execution_count": null,
      "metadata": {},
      "outputs": [],
      "source": [
        "import requests\n",
        "import json\n",
        "\n",
        "\n",
        "def submit(results, url=\"http://tinyurl.com/IML2022\"):\n",
        "    res = json.dumps(results)\n",
        "    response = requests.post(url, res)\n",
        "    try:\n",
        "        result = json.loads(response.text)\n",
        "        print(f\"accuracy is {result['results']}\")\n",
        "    except json.JSONDecodeError:\n",
        "        print(f\"ERROR: {response.text}\")\n",
        "\n",
        "\n",
        "\n",
        "mydata = dict()\n",
        "mydata['groupname'] = \"The Ostriches\"\n",
        "\n",
        "mydata[\"images\"] = results_eu\n",
        "submit(mydata)\n",
        "\n",
        "mydata[\"images\"] = results_cos\n",
        "submit(mydata)"
      ]
    }
  ],
  "metadata": {
    "accelerator": "GPU",
    "colab": {
      "name": "Challenge_EfficientNet_B5.ipynb",
      "provenance": []
    },
    "kernelspec": {
      "display_name": "Python 3",
      "name": "python3"
    },
    "language_info": {
      "name": "python"
    }
  },
  "nbformat": 4,
  "nbformat_minor": 0
}
