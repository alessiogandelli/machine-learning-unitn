{
 "cells": [
  {
   "cell_type": "markdown",
   "source": "## Imports",
   "metadata": {
    "tags": [],
    "is_collapsed": false,
    "owner_user_id": "4ffd0e12-c633-4f4a-8a0a-9942ba78ed45",
    "cell_id": "3956591b-efa0-4ca4-b989-be3cf3368575",
    "deepnote_cell_type": "text-cell-h2"
   }
  },
  {
   "cell_type": "code",
   "metadata": {
    "tags": [],
    "deepnote_to_be_reexecuted": false,
    "source_hash": "d63c1322",
    "execution_start": 1649981374309,
    "execution_millis": 7689,
    "cell_id": "00001-70fde74c-d19a-4a0f-8875-bf442dc15f32",
    "deepnote_cell_type": "code",
    "deepnote_cell_height": 297
   },
   "source": "# Imports\nimport os, warnings\nimport matplotlib.pyplot as plt\nfrom matplotlib import gridspec\nimport pathlib\nimport numpy as np\nimport tensorflow as tf\nfrom tensorflow.keras.preprocessing import image_dataset_from_directory\nfrom tensorflow.keras.applications.vgg16 import VGG16\nfrom tensorflow import keras\nfrom tensorflow.keras import layers\nimport PIL\nimport matplotlib.pyplot as plt",
   "execution_count": null,
   "outputs": []
  },
  {
   "cell_type": "markdown",
   "source": "## Prepare training and validation set ",
   "metadata": {
    "tags": [],
    "is_collapsed": false,
    "cell_id": "00002-b13a1f8a-4e47-4ec1-b0b2-6605b4869c5b",
    "deepnote_cell_type": "text-cell-h2"
   }
  },
  {
   "cell_type": "code",
   "metadata": {
    "tags": [],
    "deepnote_to_be_reexecuted": false,
    "source_hash": "4843870e",
    "execution_start": 1649981382004,
    "execution_millis": 302,
    "cell_id": "00003-5018ccfe-f65b-4371-a4bc-e619e590d766",
    "deepnote_cell_type": "code",
    "deepnote_cell_height": 329.3999938964844
   },
   "source": "\ntraining_dir = pathlib.Path('/datasets/animali/animals_dataset_the_ostriches/animals_dataset/training')\nvalidation_dir = pathlib.Path('/datasets/animali/animals_dataset_the_ostriches/animals_dataset/validation/query/')\n\n\nimage_count = len(list(training_dir.glob('*/*.jpg'))) # check if there are other extensions\nprint(image_count)\n\nimage_count = len(list(validation_dir.glob('*/*.JPEG')))\nprint(image_count)\n\n",
   "execution_count": null,
   "outputs": [
    {
     "name": "stdout",
     "text": "16607\n100\n",
     "output_type": "stream"
    }
   ]
  },
  {
   "cell_type": "code",
   "metadata": {
    "tags": [],
    "deepnote_to_be_reexecuted": false,
    "source_hash": "f8c88fb5",
    "execution_start": 1649981382386,
    "execution_millis": 18723,
    "cell_id": "00004-7175c07e-f790-4165-9496-236f1fb77b42",
    "deepnote_cell_type": "code",
    "deepnote_cell_height": 527.4000244140625
   },
   "source": "img_height = 128\nimg_width = 128\nimg_depth = 1 # 1 if greyscale 3 if rgb\n\ntrain_ds = tf.keras.utils.image_dataset_from_directory(\n    training_dir,\n    seed=420,\n    image_size=(img_height, img_width),\n    batch_size=16,\n\n    #color_mode='grayscale',\n)\n\nval_ds = tf.keras.utils.image_dataset_from_directory(\n    validation_dir,\n    seed=420,\n    image_size=(img_height, img_width),\n    batch_size=16,\n    #color_mode='grayscale',\n\n)\n\n",
   "execution_count": null,
   "outputs": [
    {
     "name": "stdout",
     "text": "Found 16607 files belonging to 10 classes.\nFound 100 files belonging to 10 classes.\n",
     "output_type": "stream"
    }
   ]
  },
  {
   "cell_type": "code",
   "metadata": {
    "tags": [],
    "deepnote_to_be_reexecuted": false,
    "source_hash": "fa548dc",
    "execution_start": 1649981401114,
    "execution_millis": 71,
    "cell_id": "00005-8422c971-7277-4deb-89a7-2a39ab92a04b",
    "deepnote_cell_type": "code",
    "deepnote_cell_height": 243
   },
   "source": "def convert_to_float(image, label):\n    image = tf.image.convert_image_dtype(image, dtype=tf.float32)\n    return image, label\n\n\nAUTOTUNE = tf.data.experimental.AUTOTUNE\n\nds_train = train_ds.map(convert_to_float).cache().prefetch(buffer_size=AUTOTUNE)\nds_valid = val_ds.map(convert_to_float).cache().prefetch(buffer_size=AUTOTUNE)\n",
   "execution_count": null,
   "outputs": []
  },
  {
   "cell_type": "code",
   "metadata": {
    "tags": [],
    "deepnote_to_be_reexecuted": false,
    "source_hash": "b623e53d",
    "execution_start": 1649981401187,
    "execution_millis": 8,
    "cell_id": "00006-6cada310-7b45-4c1c-a9a6-f541992daa0b",
    "deepnote_cell_type": "code",
    "deepnote_cell_height": 81
   },
   "source": "",
   "execution_count": null,
   "outputs": []
  },
  {
   "cell_type": "markdown",
   "source": "## Define model",
   "metadata": {
    "tags": [],
    "is_collapsed": false,
    "cell_id": "00007-5f0d0d63-33f1-4d04-9abf-ee5837281669",
    "deepnote_cell_type": "text-cell-h2"
   }
  },
  {
   "cell_type": "code",
   "metadata": {
    "tags": [],
    "deepnote_to_be_reexecuted": false,
    "source_hash": "557ba87d",
    "execution_start": 1649981401197,
    "execution_millis": 1301,
    "cell_id": "00008-92d57f00-4744-4c7e-8897-c0c2d86b9b54",
    "deepnote_cell_type": "code",
    "deepnote_cell_height": 1073.9000244140625
   },
   "source": "\n\nIMG_SHAPE = (img_height, img_width, 3 ) \nbase_model = tf.keras.applications.VGG16(input_shape=IMG_SHAPE, include_top=False, weights='imagenet')\n\n\n# questp è la rete neurale con i vari livelli\nmodel = keras.Sequential([\n    layers.Rescaling(1./255, input_shape=IMG_SHAPE),# this is for normalizing rgb values \n\n    layers.Conv2D(filters=16, kernel_size = 3, padding='same', activation='relu'),\n    layers.MaxPooling2D(strides=(2, 2)),\n    layers.Conv2D(64, 3, padding='same', activation='relu'),\n    layers.MaxPooling2D(strides=(2, 2)),\n\n    layers.Flatten(),\n    layers.Dense(128, activation='relu'),\n    layers.Dense(10)\n    \n\n])\n\nmodel.summary()\n\n\n",
   "execution_count": null,
   "outputs": [
    {
     "name": "stdout",
     "text": "Model: \"sequential\"\n_________________________________________________________________\n Layer (type)                Output Shape              Param #   \n=================================================================\n rescaling (Rescaling)       (None, 128, 128, 3)       0         \n                                                                 \n conv2d (Conv2D)             (None, 128, 128, 16)      448       \n                                                                 \n max_pooling2d (MaxPooling2D  (None, 64, 64, 16)       0         \n )                                                               \n                                                                 \n conv2d_1 (Conv2D)           (None, 64, 64, 64)        9280      \n                                                                 \n max_pooling2d_1 (MaxPooling  (None, 32, 32, 64)       0         \n 2D)                                                             \n                                                                 \n flatten (Flatten)           (None, 65536)             0         \n                                                                 \n dense (Dense)               (None, 128)               8388736   \n                                                                 \n dense_1 (Dense)             (None, 10)                1290      \n                                                                 \n=================================================================\nTotal params: 8,399,754\nTrainable params: 8,399,754\nNon-trainable params: 0\n_________________________________________________________________\n",
     "output_type": "stream"
    }
   ]
  },
  {
   "cell_type": "markdown",
   "source": "## train",
   "metadata": {
    "tags": [],
    "is_collapsed": false,
    "cell_id": "00009-4c0c4de9-5506-44c3-94cf-3bd917c63172",
    "deepnote_cell_type": "text-cell-h2"
   }
  },
  {
   "cell_type": "code",
   "metadata": {
    "tags": [],
    "deepnote_to_be_reexecuted": false,
    "source_hash": "87d959a8",
    "execution_start": 1649981402479,
    "execution_millis": 5492792,
    "cell_id": "00010-dcdb2d74-7391-45c5-8646-677535b61e1d",
    "deepnote_cell_type": "code",
    "deepnote_cell_height": 684
   },
   "source": "model.compile(\n    \n    optimizer='adam',\n    loss=tf.keras.losses.SparseCategoricalCrossentropy(from_logits=True),\n    metrics=['accuracy'],\n)\n\nhistory = model.fit(\n    ds_train,\n    validation_data=ds_valid,\n    epochs=30,\n)",
   "execution_count": null,
   "outputs": [
    {
     "name": "stdout",
     "text": "Epoch 1/10\n1038/1038 [==============================] - 2329s 2s/step - loss: 1.8610 - accuracy: 0.3539 - val_loss: 1.5231 - val_accuracy: 0.4800\nEpoch 2/10\n1038/1038 [==============================] - 371s 358ms/step - loss: 1.4510 - accuracy: 0.4956 - val_loss: 1.1812 - val_accuracy: 0.6000\nEpoch 3/10\n1038/1038 [==============================] - 369s 356ms/step - loss: 1.0550 - accuracy: 0.6388 - val_loss: 0.9993 - val_accuracy: 0.7200\nEpoch 4/10\n1038/1038 [==============================] - 364s 350ms/step - loss: 0.6871 - accuracy: 0.7735 - val_loss: 1.0787 - val_accuracy: 0.7600\nEpoch 5/10\n1038/1038 [==============================] - 335s 323ms/step - loss: 0.4604 - accuracy: 0.8540 - val_loss: 1.0961 - val_accuracy: 0.7600\nEpoch 6/10\n1038/1038 [==============================] - 335s 323ms/step - loss: 0.3144 - accuracy: 0.8997 - val_loss: 1.3721 - val_accuracy: 0.7900\nEpoch 7/10\n1038/1038 [==============================] - 335s 323ms/step - loss: 0.2105 - accuracy: 0.9338 - val_loss: 1.2152 - val_accuracy: 0.8300\nEpoch 8/10\n1038/1038 [==============================] - 337s 324ms/step - loss: 0.1685 - accuracy: 0.9529 - val_loss: 1.4090 - val_accuracy: 0.8600\nEpoch 9/10\n1038/1038 [==============================] - 335s 323ms/step - loss: 0.1258 - accuracy: 0.9638 - val_loss: 1.8175 - val_accuracy: 0.8100\nEpoch 10/10\n1038/1038 [==============================] - 335s 323ms/step - loss: 0.1050 - accuracy: 0.9698 - val_loss: 1.5887 - val_accuracy: 0.8400\n",
     "output_type": "stream"
    }
   ]
  },
  {
   "cell_type": "code",
   "metadata": {
    "tags": [],
    "deepnote_to_be_reexecuted": false,
    "source_hash": "360f5bd",
    "execution_start": 1649986895277,
    "execution_millis": 307,
    "cell_id": "00011-a31344ea-c622-41fe-a5f4-3637bd89e35a",
    "deepnote_cell_type": "code",
    "deepnote_cell_height": 561,
    "deepnote_output_heights": [
     21,
     268
    ]
   },
   "source": "plt.plot(history.history['accuracy'], label='accuracy')\nplt.plot(history.history['val_accuracy'], label = 'val_accuracy')\nplt.xlabel('Epoch')\nplt.ylabel('Accuracy')\nplt.ylim([0.5, 1])\nplt.legend(loc='lower right')\n\n\n",
   "execution_count": null,
   "outputs": [
    {
     "output_type": "execute_result",
     "execution_count": 8,
     "data": {
      "text/plain": "<matplotlib.legend.Legend at 0x7f8098185550>"
     },
     "metadata": {}
    },
    {
     "data": {
      "text/plain": "<Figure size 432x288 with 1 Axes>",
      "image/png": "[encoded data removed]"
     },
     "metadata": {
      "needs_background": "light",
      "image/png": {
       "width": 386,
       "height": 266
      }
     },
     "output_type": "display_data"
    }
   ]
  },
  {
   "cell_type": "markdown",
   "source": "<a style='text-decoration:none;line-height:16px;display:flex;color:#5B5B62;padding:10px;justify-content:end;' href='https://deepnote.com?utm_source=created-in-deepnote-cell&projectId=93aceac2-8452-469e-8b02-c16d0438aa9c' target=\"_blank\">\n<img alt='Created in deepnote.com' style='display:inline;max-height:16px;margin:0px;margin-right:7.5px;' src='data:image/svg+xml;base64,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' > </img>\nCreated in <span style='font-weight:600;margin-left:4px;'>Deepnote</span></a>",
   "metadata": {
    "tags": [],
    "created_in_deepnote_cell": true,
    "deepnote_cell_type": "markdown"
   }
  }
 ],
 "nbformat": 4,
 "nbformat_minor": 2,
 "metadata": {
  "orig_nbformat": 2,
  "deepnote": {
   "is_reactive": false
  },
  "deepnote_notebook_id": "7bfc37fa-2c13-49ab-b1c4-26d2ef37dd60",
  "deepnote_execution_queue": []
 }
}