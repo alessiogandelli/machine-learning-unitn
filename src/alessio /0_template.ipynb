{
 "cells": [
  {
   "cell_type": "markdown",
   "source": "# Preparation",
   "metadata": {
    "tags": [],
    "is_collapsed": false,
    "cell_id": "fd98946a-1ccc-46bb-9a1a-305c352b6601",
    "deepnote_cell_type": "text-cell-h1"
   }
  },
  {
   "cell_type": "markdown",
   "source": "## Import",
   "metadata": {
    "tags": [],
    "is_collapsed": false,
    "cell_id": "00001-31474638-2d55-4b25-9931-8ab48d2df7a1",
    "deepnote_cell_type": "text-cell-h2"
   }
  },
  {
   "cell_type": "code",
   "metadata": {
    "tags": [],
    "deepnote_to_be_reexecuted": false,
    "source_hash": "d63c1322",
    "execution_start": 1650032816146,
    "execution_millis": 4894,
    "cell_id": "00002-da5aa82f-b79f-437a-aab4-47863d6a6f83",
    "deepnote_cell_type": "code",
    "deepnote_cell_height": 297
   },
   "source": "# Imports\nimport os, warnings\nimport matplotlib.pyplot as plt\nfrom matplotlib import gridspec\nimport pathlib\nimport numpy as np\nimport tensorflow as tf\nfrom tensorflow.keras.preprocessing import image_dataset_from_directory\nfrom tensorflow.keras.applications.vgg16 import VGG16\nfrom tensorflow import keras\nfrom tensorflow.keras import layers\nimport PIL\nimport matplotlib.pyplot as plt",
   "execution_count": null,
   "outputs": []
  },
  {
   "cell_type": "code",
   "metadata": {
    "tags": [],
    "deepnote_to_be_reexecuted": false,
    "source_hash": "af00a339",
    "execution_start": 1650032823882,
    "execution_millis": 2,
    "cell_id": "00003-af08b7e8-36f2-489e-bedd-47cb7b3b6189",
    "deepnote_cell_type": "code",
    "deepnote_cell_height": 117
   },
   "source": "def convert_to_float(image, label):\n    image = tf.image.convert_image_dtype(image, dtype=tf.float32)\n    return image, label",
   "execution_count": null,
   "outputs": []
  },
  {
   "cell_type": "markdown",
   "source": "## Parameters",
   "metadata": {
    "tags": [],
    "is_collapsed": false,
    "cell_id": "00004-21b0bb3f-ff11-4a3b-8e2d-f33ddf98c7c6",
    "deepnote_cell_type": "text-cell-h2"
   }
  },
  {
   "cell_type": "code",
   "metadata": {
    "tags": [],
    "deepnote_to_be_reexecuted": false,
    "source_hash": "56ab1300",
    "execution_start": 1650033054555,
    "execution_millis": 3,
    "cell_id": "00005-730123f7-4c55-4ab5-8e66-671009e1c93f",
    "deepnote_cell_type": "code",
    "deepnote_cell_height": 135
   },
   "source": "img_height = 128\nimg_width = 128\nimg_depth = 1 # 1 if greyscale 3 if rgb\nn_epochs = 10",
   "execution_count": null,
   "outputs": []
  },
  {
   "cell_type": "markdown",
   "source": "## Create training and validation set",
   "metadata": {
    "tags": [],
    "is_collapsed": false,
    "cell_id": "00006-51c50158-3441-4bdf-a47f-8c6063db5bd5",
    "deepnote_cell_type": "text-cell-h2"
   }
  },
  {
   "cell_type": "markdown",
   "source": "get the path of the training and validation set folder ",
   "metadata": {
    "tags": [],
    "is_collapsed": false,
    "cell_id": "00007-045edbfe-de0e-4f9e-b32e-5732ee1191e4",
    "deepnote_cell_type": "text-cell-p"
   }
  },
  {
   "cell_type": "code",
   "metadata": {
    "tags": [],
    "deepnote_to_be_reexecuted": false,
    "source_hash": "c2b8016e",
    "execution_start": 1650032830869,
    "execution_millis": 174626,
    "cell_id": "00008-9d66ba64-66f6-47a5-a15b-0fb969b447ec",
    "owner_user_id": "4ffd0e12-c633-4f4a-8a0a-9942ba78ed45",
    "deepnote_cell_type": "code",
    "deepnote_cell_height": 276.375
   },
   "source": "# drive \ntraining_dir = pathlib.Path('/datasets/animali/animals_dataset_the_ostriches/animals_dataset/training')\nvalidation_dir = pathlib.Path('/datasets/animali/animals_dataset_the_ostriches/animals_dataset/validation/gallery/')\n\n#local\n#training_dir = pathlib.Path('./../dataset/training')\n#validation_dir = pathlib.Path('./../dataset/validation/gallery')\n\n",
   "execution_count": null,
   "outputs": [
    {
     "name": "stdout",
     "text": "16607\n4317\n",
     "output_type": "stream"
    }
   ]
  },
  {
   "cell_type": "markdown",
   "source": "Create a tf.data.Dataset using the build in function of tensorflow",
   "metadata": {
    "tags": [],
    "is_collapsed": false,
    "cell_id": "00009-a8f9da36-b9d4-4411-9318-2e61be5ba1aa",
    "deepnote_cell_type": "text-cell-p"
   }
  },
  {
   "cell_type": "code",
   "metadata": {
    "tags": [],
    "deepnote_to_be_reexecuted": false,
    "source_hash": "64b6fbe5",
    "execution_start": 1650033062919,
    "execution_millis": 14378,
    "cell_id": "00010-f86dcaa0-cce5-4ac9-be5a-ae72b80e8e5d",
    "deepnote_cell_type": "code",
    "deepnote_cell_height": 492.375
   },
   "source": "\ntrain_ds = tf.keras.utils.image_dataset_from_directory(\n    training_dir,\n    seed=420,\n    image_size=(img_height, img_width),\n    batch_size=16,\n    #color_mode='grayscale',\n)\n\nval_ds = tf.keras.utils.image_dataset_from_directory(\n    validation_dir,\n    seed=420,\n    image_size=(img_height, img_width),\n    batch_size=16,\n    #color_mode='grayscale',\n)\n\nAUTOTUNE = tf.data.experimental.AUTOTUNE\n\nds_train = train_ds.map(convert_to_float).cache().prefetch(buffer_size=AUTOTUNE)\nds_valid = val_ds.map(convert_to_float).cache().prefetch(buffer_size=AUTOTUNE)",
   "execution_count": null,
   "outputs": [
    {
     "name": "stdout",
     "text": "Found 16607 files belonging to 10 classes.\nFound 5067 files belonging to 11 classes.\n",
     "output_type": "stream"
    }
   ]
  },
  {
   "cell_type": "markdown",
   "source": "**AUTOTUNE**: \n\n* **map**: transform the dataset according to a function, in this case converts the images to float\n* **cache**: keeps the images in memory after they're loaded off disk during the first epoch. This will ensure the dataset does not become a bottleneck while training your model. If your dataset is too large to fit into memory, you can also use this method to create a performant on-disk cache.\n* **prefetch**: for optimization porpuses ",
   "metadata": {
    "tags": [],
    "cell_id": "00011-a5f63b8b-74a3-4fd6-bcd9-97808f232bcc",
    "deepnote_cell_type": "markdown",
    "deepnote_cell_height": 198.34375
   }
  },
  {
   "cell_type": "code",
   "metadata": {
    "tags": [],
    "cell_id": "00012-5935e54b-a882-40d8-8461-99d378c3b415",
    "owner_user_id": "29eb6caf-f5f9-44c1-9344-7ba4b9d5b779",
    "deepnote_cell_type": "code",
    "deepnote_cell_height": 120
   },
   "source": "AUTOTUNE = tf.data.experimental.AUTOTUNE\n\nds_train = train_ds.map(convert_to_float).cache().prefetch(buffer_size=AUTOTUNE)\nds_valid = val_ds.map(convert_to_float).cache().prefetch(buffer_size=AUTOTUNE)",
   "execution_count": null,
   "outputs": []
  },
  {
   "cell_type": "markdown",
   "source": "# Model",
   "metadata": {
    "tags": [],
    "is_collapsed": false,
    "cell_id": "00013-ac5eaa90-cb39-403c-974d-dcdc8b74bdb6",
    "deepnote_cell_type": "text-cell-h1"
   }
  },
  {
   "cell_type": "markdown",
   "source": "This is the template for a neural network model ",
   "metadata": {
    "tags": [],
    "is_collapsed": false,
    "cell_id": "00014-22e81699-5e71-46da-90e5-687eb23e86ac",
    "deepnote_cell_type": "text-cell-p"
   }
  },
  {
   "cell_type": "code",
   "metadata": {
    "tags": [],
    "cell_id": "00015-bd4605cc-1d5e-4035-be33-1a004466813c",
    "deepnote_cell_type": "code",
    "deepnote_cell_height": 210
   },
   "source": "\n# questp è la rete neurale con i vari livelli\nmodel = keras.Sequential([\n\n    #insert layers here \n\n])\n\nmodel.summary()",
   "execution_count": null,
   "outputs": []
  },
  {
   "cell_type": "markdown",
   "source": "Now we  set the optimizer, the loss and the accuracy and then we fit the model",
   "metadata": {
    "tags": [],
    "is_collapsed": false,
    "cell_id": "00016-75fbc54e-0880-46ef-ba0f-4a60b208ae06",
    "deepnote_cell_type": "text-cell-p"
   }
  },
  {
   "cell_type": "code",
   "metadata": {
    "tags": [],
    "cell_id": "00017-33f3a7a7-6f11-4c7c-b947-5e84992bcce7",
    "deepnote_cell_type": "code",
    "deepnote_cell_height": 246
   },
   "source": "model.compile(\n    optimizer='adam',\n    loss=tf.keras.losses.SparseCategoricalCrossentropy(from_logits=True),\n    metrics=['accuracy'],\n)\n\nhistory = model.fit(\n    ds_train,\n    validation_data=ds_valid,\n    epochs= n_epochs,\n)",
   "execution_count": null,
   "outputs": []
  },
  {
   "cell_type": "markdown",
   "source": "# Evaluation",
   "metadata": {
    "tags": [],
    "is_collapsed": false,
    "cell_id": "00018-333566b6-86ba-4c41-a271-f4869b51903e",
    "deepnote_cell_type": "text-cell-h1"
   }
  },
  {
   "cell_type": "markdown",
   "source": "potrebbe essere migliorato ma è un buon  punto di partenza",
   "metadata": {
    "tags": [],
    "is_collapsed": false,
    "cell_id": "00019-5cad7961-6df2-45bf-a04f-c9ddd3e16d27",
    "deepnote_cell_type": "text-cell-p"
   }
  },
  {
   "cell_type": "code",
   "metadata": {
    "tags": [],
    "cell_id": "00020-2f1c75b6-ca61-41d7-a0e5-2b2c58aae11b",
    "deepnote_cell_type": "code",
    "deepnote_cell_height": 156
   },
   "source": "plt.plot(history.history['accuracy'], label='accuracy')\nplt.plot(history.history['val_accuracy'], label = 'val_accuracy')\nplt.xlabel('Epoch')\nplt.ylabel('Accuracy')\nplt.ylim([0.5, 1])\nplt.legend(loc='lower right')",
   "execution_count": null,
   "outputs": []
  },
  {
   "cell_type": "markdown",
   "source": "<a style='text-decoration:none;line-height:16px;display:flex;color:#5B5B62;padding:10px;justify-content:end;' href='https://deepnote.com?utm_source=created-in-deepnote-cell&projectId=93aceac2-8452-469e-8b02-c16d0438aa9c' target=\"_blank\">\n<img alt='Created in deepnote.com' style='display:inline;max-height:16px;margin:0px;margin-right:7.5px;' src='data:image/svg+xml;base64,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' > </img>\nCreated in <span style='font-weight:600;margin-left:4px;'>Deepnote</span></a>",
   "metadata": {
    "tags": [],
    "created_in_deepnote_cell": true,
    "deepnote_cell_type": "markdown"
   }
  }
 ],
 "nbformat": 4,
 "nbformat_minor": 2,
 "metadata": {
  "orig_nbformat": 2,
  "deepnote": {
   "is_reactive": false
  },
  "deepnote_notebook_id": "2bb82dbb-0b1e-4ca9-9447-2e6a9942b9da",
  "deepnote_execution_queue": []
 }
}