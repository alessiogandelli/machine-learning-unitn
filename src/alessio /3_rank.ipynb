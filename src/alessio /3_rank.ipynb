{
 "cells": [
  {
   "cell_type": "markdown",
   "source": "# Preparation",
   "metadata": {
    "tags": [],
    "is_collapsed": false,
    "cell_id": "2c41f76d-e01c-4088-b247-4063c593a568",
    "deepnote_cell_type": "text-cell-h1"
   }
  },
  {
   "cell_type": "markdown",
   "source": "## Import",
   "metadata": {
    "tags": [],
    "is_collapsed": false,
    "cell_id": "00001-546f6ed1-89a3-4379-ac12-4d9d08e6a467",
    "deepnote_cell_type": "text-cell-h2"
   }
  },
  {
   "cell_type": "code",
   "metadata": {
    "tags": [],
    "deepnote_to_be_reexecuted": false,
    "source_hash": "64523fb1",
    "execution_start": 1650722612115,
    "execution_millis": 6249,
    "cell_id": "00002-7bca2b96-602b-4cad-b7bd-d1b875199f78",
    "deepnote_cell_type": "code",
    "deepnote_cell_height": 351
   },
   "source": "# Imports\nimport os, warnings\nimport matplotlib.pyplot as plt\nfrom matplotlib import gridspec\nimport pathlib\nimport numpy as np\nimport tensorflow as tf\nfrom tensorflow.keras.preprocessing import image_dataset_from_directory\nfrom tensorflow.keras.applications.vgg16 import VGG16\nfrom tensorflow import keras\nfrom tensorflow.keras import layers\nimport PIL\nimport matplotlib.pyplot as plt\nimport seaborn as sns\nfrom sklearn.metrics import confusion_matrix\n",
   "execution_count": 1,
   "outputs": []
  },
  {
   "cell_type": "markdown",
   "source": "**AUTOTUNE**: \n\n* **map**: transform the dataset according to a function, in this case converts the images to float\n* **cache**: keeps the images in memory after they're loaded off disk during the first epoch. This will ensure the dataset does not become a bottleneck while training your model. If your dataset is too large to fit into memory, you can also use this method to create a performant on-disk cache.\n* **prefetch**: for optimization porpuses ",
   "metadata": {
    "tags": [],
    "cell_id": "00003-1a754a2e-f75c-4b92-ac49-7e7239bee191",
    "deepnote_cell_type": "markdown",
    "deepnote_cell_height": 198.39999389648438
   }
  },
  {
   "cell_type": "code",
   "metadata": {
    "tags": [],
    "deepnote_to_be_reexecuted": false,
    "source_hash": "af00a339",
    "execution_start": 1650722618367,
    "execution_millis": 2,
    "is_code_hidden": true,
    "cell_id": "00004-c21ee13d-4877-443f-bd15-848a958c57f8",
    "deepnote_cell_type": "code",
    "deepnote_cell_height": 74.80000305175781
   },
   "source": "def convert_to_float(image, label):\n    image = tf.image.convert_image_dtype(image, dtype=tf.float32)\n    return image, label",
   "execution_count": 2,
   "outputs": []
  },
  {
   "cell_type": "code",
   "metadata": {
    "tags": [],
    "deepnote_to_be_reexecuted": false,
    "source_hash": "44347878",
    "execution_start": 1650722618375,
    "execution_millis": 3,
    "is_code_hidden": true,
    "cell_id": "00005-0cc78861-b93b-4cd9-b241-47acefa4350f",
    "deepnote_cell_type": "code",
    "deepnote_cell_height": 74.80000305175781
   },
   "source": "def get_dataset(training_dir, test_dir, batch_size = 32, greyscale = True):\n\n    color = 'grayscale'\n    if(not greyscale):\n        color = 'rgb'\n\n    train_ds = tf.keras.utils.image_dataset_from_directory(\n        training_dir,\n        seed=420,\n        image_size=(img_height, img_width),\n        batch_size= batch_size,\n        validation_split=0.2,\n        subset=\"training\",\n        color_mode=color,\n    )\n\n    val_ds = tf.keras.utils.image_dataset_from_directory(\n        training_dir,\n        seed=420,\n        image_size=(img_height, img_width),\n        batch_size= batch_size,\n        validation_split=0.2,\n        subset=\"validation\",\n        color_mode= color,\n    )\n\n    test_ds = tf.keras.utils.image_dataset_from_directory(\n        test_dir,\n        seed=420,\n        image_size=(img_height, img_width),\n        batch_size= batch_size,\n        color_mode= color,\n\n    )\n\n\n    AUTOTUNE = tf.data.experimental.AUTOTUNE\n\n    ds_train = train_ds.map(convert_to_float).cache().prefetch(buffer_size=AUTOTUNE)\n    ds_valid = val_ds.map(convert_to_float).cache().prefetch(buffer_size=AUTOTUNE)\n    ds_test = test_ds.map(convert_to_float).cache().prefetch(buffer_size=AUTOTUNE)\n\n   \n    class_names = train_ds.class_names\n\n    \n\n    return (ds_train, ds_valid, ds_test, class_names)\n\n",
   "execution_count": 3,
   "outputs": []
  },
  {
   "cell_type": "code",
   "metadata": {
    "tags": [],
    "deepnote_to_be_reexecuted": false,
    "source_hash": "4ee22079",
    "execution_start": 1650722618383,
    "execution_millis": 3,
    "is_code_hidden": true,
    "cell_id": "00006-94c117a1-5497-450a-a654-04811bec877b",
    "deepnote_cell_type": "code",
    "deepnote_cell_height": 74.80000305175781,
    "deepnote_output_heights": [
     579,
     579
    ]
   },
   "source": "def print_16_imgs(dataset):\n    imgs = np.concatenate([x for x, y in dataset], axis=0)\n    labels = np.concatenate([y for x, y in dataset], axis=0)\n\n    plt.figure(figsize=(10,10))\n    for i in range(16):\n        plt.subplot(4,4,i+1)\n        plt.xticks([])\n        plt.yticks([])\n        plt.imshow(imgs[i].astype('uint8'), cmap=plt.cm.binary)\n        plt.grid(False)\n        plt.title(class_names[labels[i]][10:-1])\n\n",
   "execution_count": 4,
   "outputs": []
  },
  {
   "cell_type": "code",
   "metadata": {
    "tags": [],
    "deepnote_to_be_reexecuted": false,
    "source_hash": "cf84349",
    "execution_start": 1650723283138,
    "execution_millis": 1,
    "is_code_hidden": false,
    "cell_id": "00007-d2585b38-b7db-414f-9517-9514e224d4a9",
    "deepnote_cell_type": "code",
    "deepnote_cell_height": 855
   },
   "source": "def create_model():\n\n    data_augmentation = keras.Sequential(\n    [\n        layers.RandomFlip(\"horizontal\", input_shape=(img_height, img_width, img_depth)),\n        layers.RandomRotation(0.1),\n        layers.RandomZoom(0.1),\n    ]\n    )\n\n\n    model = keras.Sequential([\n\n        #data_augmentation,\n        layers.Rescaling(1./255), # only with rgb\n\n        layers.Conv2D(32, 3, padding='same', activation='relu' ),\n        layers.MaxPooling2D(),\n\n        layers.Conv2D(64, 3, padding='same', activation='relu'), # relu for hidden layers\n        layers.MaxPooling2D(),\n\n        #layers.Dropout(0.2),\n        layers.Flatten(),\n        layers.Dense(16),\n        #layers.Dense(64, activation='relu'),\n        layers.Dense(10, activation='softmax') # softmax for probablities \n\n\n    ])\n\n    model.compile(\n        optimizer='adam',\n        loss= tf.keras.losses.SparseCategoricalCrossentropy(),\n        metrics=['accuracy'],\n    )\n\n    model.build((None, img_width, img_height, img_depth))\n\n\n    model.summary()\n    return model\n\n",
   "execution_count": 20,
   "outputs": []
  },
  {
   "cell_type": "markdown",
   "source": "## Parameters",
   "metadata": {
    "tags": [],
    "is_collapsed": false,
    "cell_id": "00008-38257575-04b4-4435-aa44-0e3fc6619386",
    "deepnote_cell_type": "text-cell-h2"
   }
  },
  {
   "cell_type": "code",
   "metadata": {
    "tags": [],
    "deepnote_to_be_reexecuted": false,
    "source_hash": "b34e6f65",
    "execution_start": 1650722618436,
    "execution_millis": 1,
    "cell_id": "00009-8b4c8185-a571-4e69-a055-3ff06806c642",
    "deepnote_cell_type": "code",
    "deepnote_cell_height": 135
   },
   "source": "img_height = 224\nimg_width = 224\nimg_depth = 3 # 1 if greyscale 3 if rgb\nn_epochs = 10",
   "execution_count": 6,
   "outputs": []
  },
  {
   "cell_type": "markdown",
   "source": "## Create training and validation set",
   "metadata": {
    "tags": [],
    "is_collapsed": false,
    "cell_id": "00010-5b29e67d-545c-4f1e-842a-a2c02825fd51",
    "deepnote_cell_type": "text-cell-h2"
   }
  },
  {
   "cell_type": "markdown",
   "source": "### Load directories ",
   "metadata": {
    "tags": [],
    "is_collapsed": false,
    "cell_id": "00011-956742f5-43f8-4af9-8f45-77d8fc50477b",
    "deepnote_cell_type": "text-cell-h3"
   }
  },
  {
   "cell_type": "code",
   "metadata": {
    "tags": [],
    "deepnote_to_be_reexecuted": false,
    "source_hash": "95cd78df",
    "execution_start": 1650722618437,
    "execution_millis": 0,
    "cell_id": "00012-bbcaede1-8fbf-4a4f-94d5-1f7cbee96303",
    "deepnote_cell_type": "code",
    "deepnote_cell_height": 243
   },
   "source": "# drive \n#training_dir = pathlib.Path('/datasets/animali/animals_dataset_the_ostriches/animals_dataset/training')\n# test_dir = pathlib.Path('/datasets/animali/animals_dataset_the_ostriches/animals_dataset/validation2/gallery/')\n\n#local\ntraining_dir = pathlib.Path('/work/dataset/training')\nquery_dir = pathlib.Path('/work/dataset/validation/query')\ngallery_dir = pathlib.Path('/work/dataset/validation/gallery')\n\n",
   "execution_count": 7,
   "outputs": []
  },
  {
   "cell_type": "markdown",
   "source": "### Create dataset object ",
   "metadata": {
    "tags": [],
    "is_collapsed": false,
    "cell_id": "00013-19369126-f4ad-4934-8145-c74484a7a20c",
    "deepnote_cell_type": "text-cell-h3"
   }
  },
  {
   "cell_type": "code",
   "metadata": {
    "tags": [],
    "deepnote_to_be_reexecuted": false,
    "source_hash": "57bfdf66",
    "execution_start": 1650722618437,
    "execution_millis": 406,
    "cell_id": "00014-00d76f07-2dda-4889-aa0b-34afdcbb7395",
    "deepnote_cell_type": "code",
    "deepnote_cell_height": 227,
    "deepnote_output_heights": [
     21,
     266,
     254
    ]
   },
   "source": "train,val,test, class_names = get_dataset(training_dir, gallery_dir , greyscale=False)\n\n",
   "execution_count": 8,
   "outputs": [
    {
     "name": "stdout",
     "text": "Found 2174 files belonging to 10 classes.\nUsing 1740 files for training.\nFound 2174 files belonging to 10 classes.\nUsing 434 files for validation.\nFound 463 files belonging to 6 classes.\n",
     "output_type": "stream"
    }
   ]
  },
  {
   "cell_type": "markdown",
   "source": "## Check data distribution",
   "metadata": {
    "tags": [],
    "is_collapsed": false,
    "cell_id": "00015-dc774e5e-c4a6-49bf-8d17-db1353fbd6ff",
    "deepnote_cell_type": "text-cell-h2"
   }
  },
  {
   "cell_type": "code",
   "metadata": {
    "tags": [],
    "deepnote_to_be_reexecuted": false,
    "source_hash": "99e82401",
    "execution_start": 1650722618846,
    "execution_millis": 901,
    "is_code_hidden": true,
    "output_cleared": false,
    "cell_id": "00016-6af45f96-6d07-4c5b-abff-381ff523d005",
    "deepnote_cell_type": "code",
    "deepnote_cell_height": 138,
    "deepnote_output_heights": [
     280
    ]
   },
   "source": "y = np.concatenate([y for x, y in train_ds], axis=0)\n\nunique, counts = np.unique(y, return_counts=True)\n\nplt.bar(unique, counts)\nplt.xticks(unique)\nplt.title(\"class distribution\")\nplt.xlabel(\"class\")\nplt.ylabel(\"count\")\nplt.show()",
   "execution_count": 9,
   "outputs": [
    {
     "output_type": "error",
     "ename": "NameError",
     "evalue": "name 'train_ds' is not defined",
     "traceback": [
      "\u001b[0;31m---------------------------------------------------------------------------\u001b[0m",
      "\u001b[0;31mNameError\u001b[0m                                 Traceback (most recent call last)",
      "\u001b[0;32m<ipython-input-9-73e16b74b2f6>\u001b[0m in \u001b[0;36m<module>\u001b[0;34m\u001b[0m\n\u001b[0;32m----> 1\u001b[0;31m \u001b[0my\u001b[0m \u001b[0;34m=\u001b[0m \u001b[0mnp\u001b[0m\u001b[0;34m.\u001b[0m\u001b[0mconcatenate\u001b[0m\u001b[0;34m(\u001b[0m\u001b[0;34m[\u001b[0m\u001b[0my\u001b[0m \u001b[0;32mfor\u001b[0m \u001b[0mx\u001b[0m\u001b[0;34m,\u001b[0m \u001b[0my\u001b[0m \u001b[0;32min\u001b[0m \u001b[0mtrain_ds\u001b[0m\u001b[0;34m]\u001b[0m\u001b[0;34m,\u001b[0m \u001b[0maxis\u001b[0m\u001b[0;34m=\u001b[0m\u001b[0;36m0\u001b[0m\u001b[0;34m)\u001b[0m\u001b[0;34m\u001b[0m\u001b[0;34m\u001b[0m\u001b[0m\n\u001b[0m\u001b[1;32m      2\u001b[0m \u001b[0;34m\u001b[0m\u001b[0m\n\u001b[1;32m      3\u001b[0m \u001b[0munique\u001b[0m\u001b[0;34m,\u001b[0m \u001b[0mcounts\u001b[0m \u001b[0;34m=\u001b[0m \u001b[0mnp\u001b[0m\u001b[0;34m.\u001b[0m\u001b[0munique\u001b[0m\u001b[0;34m(\u001b[0m\u001b[0my\u001b[0m\u001b[0;34m,\u001b[0m \u001b[0mreturn_counts\u001b[0m\u001b[0;34m=\u001b[0m\u001b[0;32mTrue\u001b[0m\u001b[0;34m)\u001b[0m\u001b[0;34m\u001b[0m\u001b[0;34m\u001b[0m\u001b[0m\n\u001b[1;32m      4\u001b[0m \u001b[0;34m\u001b[0m\u001b[0m\n\u001b[1;32m      5\u001b[0m \u001b[0mplt\u001b[0m\u001b[0;34m.\u001b[0m\u001b[0mbar\u001b[0m\u001b[0;34m(\u001b[0m\u001b[0munique\u001b[0m\u001b[0;34m,\u001b[0m \u001b[0mcounts\u001b[0m\u001b[0;34m)\u001b[0m\u001b[0;34m\u001b[0m\u001b[0;34m\u001b[0m\u001b[0m\n",
      "\u001b[0;31mNameError\u001b[0m: name 'train_ds' is not defined"
     ]
    }
   ]
  },
  {
   "cell_type": "markdown",
   "source": "# Model",
   "metadata": {
    "tags": [],
    "is_collapsed": false,
    "cell_id": "00017-779c8443-5837-46cb-a0f0-6764d14047c5",
    "deepnote_cell_type": "text-cell-h1"
   }
  },
  {
   "cell_type": "code",
   "metadata": {
    "tags": [],
    "deepnote_to_be_reexecuted": false,
    "source_hash": "2f0a3efb",
    "execution_start": 1650723288298,
    "execution_millis": 233,
    "owner_user_id": "4ffd0e12-c633-4f4a-8a0a-9942ba78ed45",
    "cell_id": "00018-6858284c-b161-4436-90c2-7f228016f5d6",
    "deepnote_cell_type": "code",
    "deepnote_cell_height": 623.9000244140625
   },
   "source": "model = create_model()",
   "execution_count": 21,
   "outputs": [
    {
     "name": "stdout",
     "text": "Model: \"sequential_5\"\n_________________________________________________________________\n Layer (type)                Output Shape              Param #   \n=================================================================\n rescaling_2 (Rescaling)     (None, 224, 224, 3)       0         \n                                                                 \n conv2d_4 (Conv2D)           (None, 224, 224, 32)      896       \n                                                                 \n max_pooling2d_4 (MaxPooling  (None, 112, 112, 32)     0         \n 2D)                                                             \n                                                                 \n conv2d_5 (Conv2D)           (None, 112, 112, 64)      18496     \n                                                                 \n max_pooling2d_5 (MaxPooling  (None, 56, 56, 64)       0         \n 2D)                                                             \n                                                                 \n flatten_2 (Flatten)         (None, 200704)            0         \n                                                                 \n dense_4 (Dense)             (None, 16)                3211280   \n                                                                 \n dense_5 (Dense)             (None, 10)                170       \n                                                                 \n=================================================================\nTotal params: 3,230,842\nTrainable params: 3,230,842\nNon-trainable params: 0\n_________________________________________________________________\n",
     "output_type": "stream"
    }
   ]
  },
  {
   "cell_type": "code",
   "metadata": {
    "tags": [],
    "deepnote_to_be_reexecuted": false,
    "source_hash": "739d0f19",
    "execution_start": 1650723294828,
    "execution_millis": 145349,
    "cell_id": "00019-e7b6eadb-3924-47a0-8556-ed5ae6c776f2",
    "deepnote_cell_type": "code",
    "deepnote_cell_height": 219.6999969482422
   },
   "source": "\n\nhistory = model.fit(\n    train.take(100),\n    validation_data=val,\n    epochs= 1,\n)",
   "execution_count": 22,
   "outputs": [
    {
     "name": "stdout",
     "text": "55/55 [==============================] - 145s 3s/step - loss: 2.7035 - accuracy: 0.1718 - val_loss: 2.0405 - val_accuracy: 0.2558\n",
     "output_type": "stream"
    }
   ]
  },
  {
   "cell_type": "markdown",
   "source": "# Evaluation",
   "metadata": {
    "tags": [],
    "is_collapsed": false,
    "cell_id": "00020-f58a3543-3a0c-42c5-8802-646b02e3b0a2",
    "deepnote_cell_type": "text-cell-h1"
   }
  },
  {
   "cell_type": "markdown",
   "source": "potrebbe essere migliorato ma è un buon  punto di partenza",
   "metadata": {
    "tags": [],
    "is_collapsed": false,
    "cell_id": "00021-38afda7b-6010-4533-9081-7ce0a38e0630",
    "deepnote_cell_type": "text-cell-p"
   }
  },
  {
   "cell_type": "code",
   "metadata": {
    "tags": [],
    "deepnote_to_be_reexecuted": true,
    "source_hash": "74c47ab",
    "execution_start": 1650671253047,
    "execution_millis": 271,
    "cell_id": "00022-7f4de9c4-e3a7-4cb2-b4db-9e7a7a8fc53e",
    "deepnote_cell_type": "code",
    "deepnote_cell_height": 473,
    "deepnote_output_heights": [
     268
    ]
   },
   "source": "plt.plot(history.history['accuracy'], label='accuracy')\nplt.plot(history.history['val_accuracy'], label = 'val_accuracy')\nplt.xlabel('Epoch')\nplt.ylabel('Accuracy')\nplt.ylim([0.5, 1])\nplt.legend(loc='lower right')\nplt.show()",
   "execution_count": null,
   "outputs": [
    {
     "data": {
      "text/plain": "<Figure size 432x288 with 1 Axes>",
      "image/png": "[encoded data removed]"
     },
     "metadata": {
      "needs_background": "light",
      "image/png": {
       "width": 386,
       "height": 266
      }
     },
     "output_type": "display_data"
    }
   ]
  },
  {
   "cell_type": "markdown",
   "source": "# Test and error analysis",
   "metadata": {
    "tags": [],
    "is_collapsed": false,
    "cell_id": "00023-58019677-e015-43bf-84bf-6826eaf1e2f7",
    "deepnote_cell_type": "text-cell-h1"
   }
  },
  {
   "cell_type": "markdown",
   "source": "### confusion matrix ",
   "metadata": {
    "tags": [],
    "is_collapsed": false,
    "cell_id": "00024-77230af8-a05a-4687-b832-0bcce705aff3",
    "deepnote_cell_type": "text-cell-h3"
   }
  },
  {
   "cell_type": "code",
   "metadata": {
    "tags": [],
    "deepnote_to_be_reexecuted": true,
    "source_hash": "72341a56",
    "execution_start": 1650671258240,
    "execution_millis": 12902,
    "cell_id": "00025-36fc257d-f877-4a3d-a0dc-2977e72ce42e",
    "deepnote_cell_type": "code",
    "deepnote_cell_height": 181.6999969482422,
    "deepnote_output_heights": [
     null,
     21
    ]
   },
   "source": "model.evaluate(test)\n",
   "execution_count": null,
   "outputs": [
    {
     "name": "stdout",
     "text": "15/15 [==============================] - 13s 787ms/step - loss: 5.1983 - accuracy: 0.0842\n",
     "output_type": "stream"
    },
    {
     "output_type": "execute_result",
     "execution_count": 21,
     "data": {
      "text/plain": "[5.198348522186279, 0.08423326164484024]"
     },
     "metadata": {}
    }
   ]
  },
  {
   "cell_type": "code",
   "metadata": {
    "tags": [],
    "deepnote_to_be_reexecuted": false,
    "source_hash": "d611121e",
    "execution_start": 1650723445738,
    "execution_millis": 10729,
    "cell_id": "00026-124a75b2-cd41-4b90-90aa-52b1ecaae7ea",
    "deepnote_cell_type": "code",
    "deepnote_cell_height": 99,
    "deepnote_output_heights": [
     60
    ]
   },
   "source": "predictions = model.predict(test)  # Vector of probabilities\n",
   "execution_count": 23,
   "outputs": []
  },
  {
   "cell_type": "code",
   "metadata": {
    "tags": [],
    "deepnote_to_be_reexecuted": false,
    "source_hash": "69aa9c6a",
    "execution_start": 1650723683519,
    "execution_millis": 2,
    "cell_id": "00027-66c34e30-27c9-40ca-88e2-1819950fe1a9",
    "deepnote_cell_type": "code",
    "deepnote_cell_height": 235.6999969482422,
    "deepnote_output_heights": [
     21,
     21
    ]
   },
   "source": "pred_labels = np.argmax(predictions, axis = 1)\nprint(sorted(predictions[0], reverse=True))\npred_labels[0]\n\n",
   "execution_count": 27,
   "outputs": [
    {
     "name": "stdout",
     "text": "[0.14876945, 0.1478194, 0.119348615, 0.115877435, 0.11012418, 0.1021127, 0.09581499, 0.061576147, 0.0551919, 0.043365207]\n",
     "output_type": "stream"
    },
    {
     "output_type": "execute_result",
     "execution_count": 27,
     "data": {
      "text/plain": "463.0"
     },
     "metadata": {}
    }
   ]
  },
  {
   "cell_type": "code",
   "metadata": {
    "tags": [],
    "deepnote_to_be_reexecuted": true,
    "source_hash": "f6844d56",
    "execution_start": 1650665746059,
    "execution_millis": 21,
    "cell_id": "00028-19c877a3-28b4-403c-92e1-72b17a25a77e",
    "deepnote_cell_type": "code",
    "deepnote_cell_height": 378.20001220703125,
    "deepnote_output_heights": [
     343
    ]
   },
   "source": "\npredictions = model.predict(test)     # Vector of probabilities\npred_labels = np.argmax(predictions, axis = 1) # We take the highest probability\ntest_labels = np.concatenate([y for x, y in ds_test], axis=0)\nclass_names = train_ds.class_names\n\nCM = confusion_matrix(test_labels, pred_labels)\nax = plt.axes()\nsns.heatmap(CM, annot=True, \n           annot_kws={\"size\": 10}, \n           xticklabels=class_names, \n           yticklabels=class_names, ax = ax)\nax.set_title('Confusion matrix')\nplt.show()",
   "execution_count": null,
   "outputs": [
    {
     "output_type": "error",
     "ename": "NameError",
     "evalue": "name 'model' is not defined",
     "traceback": [
      "\u001b[0;31m---------------------------------------------------------------------------\u001b[0m",
      "\u001b[0;31mNameError\u001b[0m                                 Traceback (most recent call last)",
      "\u001b[0;32m<ipython-input-36-e6dff81dd743>\u001b[0m in \u001b[0;36m<module>\u001b[0;34m\u001b[0m\n\u001b[0;32m----> 1\u001b[0;31m \u001b[0mpredictions\u001b[0m \u001b[0;34m=\u001b[0m \u001b[0mmodel\u001b[0m\u001b[0;34m.\u001b[0m\u001b[0mpredict\u001b[0m\u001b[0;34m(\u001b[0m\u001b[0mds_test\u001b[0m\u001b[0;34m)\u001b[0m     \u001b[0;31m# Vector of probabilities\u001b[0m\u001b[0;34m\u001b[0m\u001b[0;34m\u001b[0m\u001b[0m\n\u001b[0m\u001b[1;32m      2\u001b[0m \u001b[0mpred_labels\u001b[0m \u001b[0;34m=\u001b[0m \u001b[0mnp\u001b[0m\u001b[0;34m.\u001b[0m\u001b[0margmax\u001b[0m\u001b[0;34m(\u001b[0m\u001b[0mpredictions\u001b[0m\u001b[0;34m,\u001b[0m \u001b[0maxis\u001b[0m \u001b[0;34m=\u001b[0m \u001b[0;36m1\u001b[0m\u001b[0;34m)\u001b[0m \u001b[0;31m# We take the highest probability\u001b[0m\u001b[0;34m\u001b[0m\u001b[0;34m\u001b[0m\u001b[0m\n\u001b[1;32m      3\u001b[0m \u001b[0mtest_labels\u001b[0m \u001b[0;34m=\u001b[0m \u001b[0mnp\u001b[0m\u001b[0;34m.\u001b[0m\u001b[0mconcatenate\u001b[0m\u001b[0;34m(\u001b[0m\u001b[0;34m[\u001b[0m\u001b[0my\u001b[0m \u001b[0;32mfor\u001b[0m \u001b[0mx\u001b[0m\u001b[0;34m,\u001b[0m \u001b[0my\u001b[0m \u001b[0;32min\u001b[0m \u001b[0mds_test\u001b[0m\u001b[0;34m]\u001b[0m\u001b[0;34m,\u001b[0m \u001b[0maxis\u001b[0m\u001b[0;34m=\u001b[0m\u001b[0;36m0\u001b[0m\u001b[0;34m)\u001b[0m\u001b[0;34m\u001b[0m\u001b[0;34m\u001b[0m\u001b[0m\n\u001b[1;32m      4\u001b[0m \u001b[0mclass_names\u001b[0m \u001b[0;34m=\u001b[0m \u001b[0mtrain_ds\u001b[0m\u001b[0;34m.\u001b[0m\u001b[0mclass_names\u001b[0m\u001b[0;34m\u001b[0m\u001b[0;34m\u001b[0m\u001b[0m\n\u001b[1;32m      5\u001b[0m \u001b[0;34m\u001b[0m\u001b[0m\n",
      "\u001b[0;31mNameError\u001b[0m: name 'model' is not defined"
     ]
    }
   ]
  },
  {
   "cell_type": "code",
   "metadata": {
    "tags": [],
    "deepnote_to_be_reexecuted": true,
    "source_hash": "db5cedd1",
    "execution_start": 1650665741054,
    "execution_millis": 1,
    "cell_id": "00029-276da420-66f6-449d-ab74-9e95a8808484",
    "deepnote_cell_type": "code",
    "deepnote_cell_height": 756.2000122070312,
    "deepnote_output_heights": [
     611
    ]
   },
   "source": "def display_examples(class_names, images, labels):\n    \"\"\"\n        Display 25 images from the images array with its corresponding labels\n    \"\"\"\n    \n    fig = plt.figure(figsize=(10,10))\n    fig.suptitle(\"Some examples of images of the dataset\", fontsize=16)\n    for i in range(25):\n        plt.subplot(5,5,i+1)\n        plt.xticks([])\n        plt.yticks([])\n        plt.grid(False)\n        plt.imshow(images[i], cmap=plt.cm.binary)\n        plt.xlabel(class_names[labels[i]])\n    plt.show()\n\n\n\ndef print_mislabeled_images(class_names, test_images, test_labels, pred_labels):\n    \"\"\"\n        Print 25 examples of mislabeled images by the classifier, e.g when test_labels != pred_labels\n    \"\"\"\n    test_images = np.concatenate([x for x, y in ds_test], axis=0)\n\n    BOO = (test_labels == pred_labels)\n    mislabeled_indices = np.where(BOO == 0)\n    mislabeled_images = test_images[mislabeled_indices]\n    mislabeled_labels = pred_labels[mislabeled_indices]\n\n    title = \"Some examples of mislabeled images by the classifier:\"\n    display_examples(class_names,  mislabeled_images, mislabeled_labels)\n\nprint_mislabeled_images(class_names, ds_test, test_labels, pred_labels)\n\n",
   "execution_count": null,
   "outputs": [
    {
     "output_type": "error",
     "ename": "NameError",
     "evalue": "name 'test_labels' is not defined",
     "traceback": [
      "\u001b[0;31m---------------------------------------------------------------------------\u001b[0m",
      "\u001b[0;31mNameError\u001b[0m                                 Traceback (most recent call last)",
      "\u001b[0;32m<ipython-input-35-74bfd72cb37b>\u001b[0m in \u001b[0;36m<module>\u001b[0;34m\u001b[0m\n\u001b[1;32m     31\u001b[0m     \u001b[0mdisplay_examples\u001b[0m\u001b[0;34m(\u001b[0m\u001b[0mclass_names\u001b[0m\u001b[0;34m,\u001b[0m  \u001b[0mmislabeled_images\u001b[0m\u001b[0;34m,\u001b[0m \u001b[0mmislabeled_labels\u001b[0m\u001b[0;34m)\u001b[0m\u001b[0;34m\u001b[0m\u001b[0;34m\u001b[0m\u001b[0m\n\u001b[1;32m     32\u001b[0m \u001b[0;34m\u001b[0m\u001b[0m\n\u001b[0;32m---> 33\u001b[0;31m \u001b[0mprint_mislabeled_images\u001b[0m\u001b[0;34m(\u001b[0m\u001b[0mclass_names\u001b[0m\u001b[0;34m,\u001b[0m \u001b[0mds_test\u001b[0m\u001b[0;34m,\u001b[0m \u001b[0mtest_labels\u001b[0m\u001b[0;34m,\u001b[0m \u001b[0mpred_labels\u001b[0m\u001b[0;34m)\u001b[0m\u001b[0;34m\u001b[0m\u001b[0;34m\u001b[0m\u001b[0m\n\u001b[0m\u001b[1;32m     34\u001b[0m \u001b[0;34m\u001b[0m\u001b[0m\n",
      "\u001b[0;31mNameError\u001b[0m: name 'test_labels' is not defined"
     ]
    }
   ]
  },
  {
   "cell_type": "markdown",
   "source": "<a style='text-decoration:none;line-height:16px;display:flex;color:#5B5B62;padding:10px;justify-content:end;' href='https://deepnote.com?utm_source=created-in-deepnote-cell&projectId=93aceac2-8452-469e-8b02-c16d0438aa9c' target=\"_blank\">\n<img alt='Created in deepnote.com' style='display:inline;max-height:16px;margin:0px;margin-right:7.5px;' src='data:image/svg+xml;base64,PD94bWwgdmVyc2lvbj0iMS4wIiBlbmNvZGluZz0iVVRGLTgiPz4KPHN2ZyB3aWR0aD0iODBweCIgaGVpZ2h0PSI4MHB4IiB2aWV3Qm94PSIwIDAgODAgODAiIHZlcnNpb249IjEuMSIgeG1sbnM9Imh0dHA6Ly93d3cudzMub3JnLzIwMDAvc3ZnIiB4bWxuczp4bGluaz0iaHR0cDovL3d3dy53My5vcmcvMTk5OS94bGluayI+CiAgICA8IS0tIEdlbmVyYXRvcjogU2tldGNoIDU0LjEgKDc2NDkwKSAtIGh0dHBzOi8vc2tldGNoYXBwLmNvbSAtLT4KICAgIDx0aXRsZT5Hcm91cCAzPC90aXRsZT4KICAgIDxkZXNjPkNyZWF0ZWQgd2l0aCBTa2V0Y2guPC9kZXNjPgogICAgPGcgaWQ9IkxhbmRpbmciIHN0cm9rZT0ibm9uZSIgc3Ryb2tlLXdpZHRoPSIxIiBmaWxsPSJub25lIiBmaWxsLXJ1bGU9ImV2ZW5vZGQiPgogICAgICAgIDxnIGlkPSJBcnRib2FyZCIgdHJhbnNmb3JtPSJ0cmFuc2xhdGUoLTEyMzUuMDAwMDAwLCAtNzkuMDAwMDAwKSI+CiAgICAgICAgICAgIDxnIGlkPSJHcm91cC0zIiB0cmFuc2Zvcm09InRyYW5zbGF0ZSgxMjM1LjAwMDAwMCwgNzkuMDAwMDAwKSI+CiAgICAgICAgICAgICAgICA8cG9seWdvbiBpZD0iUGF0aC0yMCIgZmlsbD0iIzAyNjVCNCIgcG9pbnRzPSIyLjM3NjIzNzYyIDgwIDM4LjA0NzY2NjcgODAgNTcuODIxNzgyMiA3My44MDU3NTkyIDU3LjgyMTc4MjIgMzIuNzU5MjczOSAzOS4xNDAyMjc4IDMxLjY4MzE2ODMiPjwvcG9seWdvbj4KICAgICAgICAgICAgICAgIDxwYXRoIGQ9Ik0zNS4wMDc3MTgsODAgQzQyLjkwNjIwMDcsNzYuNDU0OTM1OCA0Ny41NjQ5MTY3LDcxLjU0MjI2NzEgNDguOTgzODY2LDY1LjI2MTk5MzkgQzUxLjExMjI4OTksNTUuODQxNTg0MiA0MS42NzcxNzk1LDQ5LjIxMjIyODQgMjUuNjIzOTg0Niw0OS4yMTIyMjg0IEMyNS40ODQ5Mjg5LDQ5LjEyNjg0NDggMjkuODI2MTI5Niw0My4yODM4MjQ4IDM4LjY0NzU4NjksMzEuNjgzMTY4MyBMNzIuODcxMjg3MSwzMi41NTQ0MjUgTDY1LjI4MDk3Myw2Ny42NzYzNDIxIEw1MS4xMTIyODk5LDc3LjM3NjE0NCBMMzUuMDA3NzE4LDgwIFoiIGlkPSJQYXRoLTIyIiBmaWxsPSIjMDAyODY4Ij48L3BhdGg+CiAgICAgICAgICAgICAgICA8cGF0aCBkPSJNMCwzNy43MzA0NDA1IEwyNy4xMTQ1MzcsMC4yNTcxMTE0MzYgQzYyLjM3MTUxMjMsLTEuOTkwNzE3MDEgODAsMTAuNTAwMzkyNyA4MCwzNy43MzA0NDA1IEM4MCw2NC45NjA0ODgyIDY0Ljc3NjUwMzgsNzkuMDUwMzQxNCAzNC4zMjk1MTEzLDgwIEM0Ny4wNTUzNDg5LDc3LjU2NzA4MDggNTMuNDE4MjY3Nyw3MC4zMTM2MTAzIDUzLjQxODI2NzcsNTguMjM5NTg4NSBDNTMuNDE4MjY3Nyw0MC4xMjg1NTU3IDM2LjMwMzk1NDQsMzcuNzMwNDQwNSAyNS4yMjc0MTcsMzcuNzMwNDQwNSBDMTcuODQzMDU4NiwzNy43MzA0NDA1IDkuNDMzOTE5NjYsMzcuNzMwNDQwNSAwLDM3LjczMDQ0MDUgWiIgaWQ9IlBhdGgtMTkiIGZpbGw9IiMzNzkzRUYiPjwvcGF0aD4KICAgICAgICAgICAgPC9nPgogICAgICAgIDwvZz4KICAgIDwvZz4KPC9zdmc+' > </img>\nCreated in <span style='font-weight:600;margin-left:4px;'>Deepnote</span></a>",
   "metadata": {
    "tags": [],
    "created_in_deepnote_cell": true,
    "deepnote_cell_type": "markdown"
   }
  }
 ],
 "nbformat": 4,
 "nbformat_minor": 2,
 "metadata": {
  "orig_nbformat": 2,
  "deepnote": {
   "is_reactive": false
  },
  "deepnote_notebook_id": "bc9091b3-da21-4762-87fb-7283c8d809dd",
  "deepnote_execution_queue": []
 }
}