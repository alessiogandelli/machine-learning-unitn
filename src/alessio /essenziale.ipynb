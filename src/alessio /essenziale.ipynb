{
 "cells": [
  {
   "cell_type": "markdown",
   "source": "## imports",
   "metadata": {
    "tags": [],
    "is_collapsed": false,
    "cell_id": "03e2301c-2cc0-49de-8157-8afd11d35ac6",
    "deepnote_cell_type": "text-cell-h2"
   }
  },
  {
   "cell_type": "code",
   "metadata": {
    "tags": [],
    "deepnote_to_be_reexecuted": false,
    "source_hash": "d63c1322",
    "execution_start": 1649756001401,
    "execution_millis": 3605,
    "cell_id": "00001-3d12c66e-e4f7-4144-afea-e1b085a6623e",
    "deepnote_cell_type": "code",
    "deepnote_cell_height": 297
   },
   "source": "# Imports\nimport os, warnings\nimport matplotlib.pyplot as plt\nfrom matplotlib import gridspec\nimport pathlib\nimport numpy as np\nimport tensorflow as tf\nfrom tensorflow.keras.preprocessing import image_dataset_from_directory\nfrom tensorflow.keras.applications.vgg16 import VGG16\nfrom tensorflow import keras\nfrom tensorflow.keras import layers\nimport PIL\nimport matplotlib.pyplot as plt",
   "execution_count": null,
   "outputs": []
  },
  {
   "cell_type": "markdown",
   "source": "## image preprocessing",
   "metadata": {
    "tags": [],
    "is_collapsed": false,
    "cell_id": "00002-d3caf7e7-c906-4a86-8828-6ef4506af8ab",
    "deepnote_cell_type": "text-cell-h2"
   }
  },
  {
   "cell_type": "code",
   "metadata": {
    "tags": [],
    "deepnote_to_be_reexecuted": false,
    "source_hash": "1d37162c",
    "execution_start": 1649761299398,
    "execution_millis": 2,
    "cell_id": "00003-60b488e2-876d-4102-abf8-c27055775eb9",
    "owner_user_id": "29eb6caf-f5f9-44c1-9344-7ba4b9d5b779",
    "deepnote_cell_type": "code",
    "deepnote_cell_height": 293.3999938964844
   },
   "source": "\ntraining_dir = pathlib.Path('./../dataset/training')\nvalidation_dir = pathlib.Path('./../dataset/validation/gallery')\n\nimage_count = len(list(training_dir.glob('*/*.JPEG')))\nprint(image_count)\n\nimage_count = len(list(validation_dir.glob('*/*.JPEG')))\nprint(image_count)\n",
   "execution_count": null,
   "outputs": [
    {
     "name": "stdout",
     "text": "2174\n463\n",
     "output_type": "stream"
    }
   ]
  },
  {
   "cell_type": "markdown",
   "source": "## train and validation set ",
   "metadata": {
    "tags": [],
    "is_collapsed": false,
    "cell_id": "00005-a26b298d-6aa8-4c44-80e0-aff89fa67440",
    "deepnote_cell_type": "text-cell-h2"
   }
  },
  {
   "cell_type": "code",
   "metadata": {
    "tags": [],
    "deepnote_to_be_reexecuted": false,
    "source_hash": "14a26b87",
    "execution_start": 1649761336058,
    "execution_millis": 256,
    "cell_id": "00006-c345f4ca-c79c-459a-a176-fb5494fda3b3",
    "deepnote_cell_type": "code",
    "deepnote_cell_height": 509.3999938964844
   },
   "source": "img_height = 128\nimg_width = 128\n\ntrain_ds = tf.keras.utils.image_dataset_from_directory(\n    training_dir,\n    #validation_split=0.2,\n   # subset=\"training\",\n    seed=420,\n    image_size=(img_height, img_width)\n\n)\n\nval_ds = tf.keras.utils.image_dataset_from_directory(\n    validation_dir,\n   # validation_split=0.2,\n   # subset=\"validation\",\n    seed=420,\n    image_size=(img_height, img_width)\n\n)\n\n",
   "execution_count": null,
   "outputs": [
    {
     "name": "stdout",
     "text": "Found 2174 files belonging to 10 classes.\nFound 463 files belonging to 6 classes.\n",
     "output_type": "stream"
    }
   ]
  },
  {
   "cell_type": "code",
   "metadata": {
    "tags": [],
    "deepnote_to_be_reexecuted": false,
    "source_hash": "f78bf8f6",
    "execution_start": 1649761355449,
    "execution_millis": 20,
    "cell_id": "00007-217dc133-a272-4a89-9583-b6e50ec69aef",
    "deepnote_cell_type": "code",
    "deepnote_cell_height": 423
   },
   "source": "def convert_to_float(image, label):\n    image = tf.image.convert_image_dtype(image, dtype=tf.float32)\n    return image, label\n\n\nAUTOTUNE = tf.data.experimental.AUTOTUNE\n\nds_train = (\n    train_ds\n    .map(convert_to_float)\n    .cache()\n    .prefetch(buffer_size=AUTOTUNE)\n)\n\nds_valid = (\n    val_ds\n    .map(convert_to_float)\n    .cache()\n    .prefetch(buffer_size=AUTOTUNE)\n)",
   "execution_count": null,
   "outputs": []
  },
  {
   "cell_type": "markdown",
   "source": "## define model",
   "metadata": {
    "tags": [],
    "is_collapsed": false,
    "cell_id": "00008-089c5ecd-c10d-489b-b947-29c10db72930",
    "deepnote_cell_type": "text-cell-h2"
   }
  },
  {
   "cell_type": "code",
   "metadata": {
    "tags": [],
    "deepnote_to_be_reexecuted": false,
    "source_hash": "ef09cdc3",
    "execution_start": 1649761362097,
    "execution_millis": 465,
    "cell_id": "00009-26e60ab6-ebff-4c38-a59a-a6337d7af498",
    "deepnote_cell_type": "code",
    "deepnote_cell_height": 1115
   },
   "source": "IMG_SHAPE = (img_height, img_width, 3 )\nbase_model = tf.keras.applications.VGG16(input_shape=IMG_SHAPE, include_top=False, weights='imagenet')\n\n\n# questp è la rete neurale con i vari livelli\nmodel = keras.Sequential([\n    layers.Rescaling(1./255, input_shape=(img_height, img_width, 3)),\n    layers.Conv2D(filters=16, kernel_size = 3, padding='same', activation='relu'),\n    layers.MaxPooling2D(strides=(2, 2)),\n    layers.Conv2D(32, 3, padding='same', activation='relu'),\n    layers.MaxPooling2D(strides=(2, 2)),\n    layers.Conv2D(64, 3, padding='same', activation='relu'),\n    layers.MaxPooling2D(strides=(2, 2)),\n    layers.Flatten(),\n    layers.Dense(128, activation='relu'),\n    layers.Dense(10, activation=\"sigmoid\")\n    \n\n])\n\nmodel.summary()\n\n\n",
   "execution_count": null,
   "outputs": [
    {
     "name": "stdout",
     "text": "Model: \"sequential_8\"\n_________________________________________________________________\n Layer (type)                Output Shape              Param #   \n=================================================================\n rescaling_6 (Rescaling)     (None, 128, 128, 3)       0         \n                                                                 \n conv2d_30 (Conv2D)          (None, 128, 128, 16)      448       \n                                                                 \n max_pooling2d_23 (MaxPoolin  (None, 64, 64, 16)       0         \n g2D)                                                            \n                                                                 \n conv2d_31 (Conv2D)          (None, 64, 64, 32)        4640      \n                                                                 \n max_pooling2d_24 (MaxPoolin  (None, 32, 32, 32)       0         \n g2D)                                                            \n                                                                 \n conv2d_32 (Conv2D)          (None, 32, 32, 64)        18496     \n                                                                 \n max_pooling2d_25 (MaxPoolin  (None, 16, 16, 64)       0         \n g2D)                                                            \n                                                                 \n flatten_10 (Flatten)        (None, 16384)             0         \n                                                                 \n dense_18 (Dense)            (None, 128)               2097280   \n                                                                 \n dense_19 (Dense)            (None, 10)                1290      \n                                                                 \n=================================================================\nTotal params: 2,122,154\nTrainable params: 2,122,154\nNon-trainable params: 0\n_________________________________________________________________\n",
     "output_type": "stream"
    }
   ]
  },
  {
   "cell_type": "markdown",
   "source": "## train",
   "metadata": {
    "tags": [],
    "is_collapsed": false,
    "cell_id": "00010-616dcdbc-ea9f-46cd-a3b5-a7d78b05e795",
    "deepnote_cell_type": "text-cell-h2"
   }
  },
  {
   "cell_type": "code",
   "metadata": {
    "tags": [],
    "deepnote_to_be_reexecuted": false,
    "source_hash": "87d959a8",
    "execution_start": 1649761366415,
    "execution_millis": 397896,
    "cell_id": "00011-49a33b67-a897-4201-8035-0e739b9b61a2",
    "deepnote_cell_type": "code",
    "deepnote_cell_height": 705.4000244140625
   },
   "source": "model.compile(\n    optimizer='adam',\n    loss=tf.keras.losses.SparseCategoricalCrossentropy(from_logits=True),\n    metrics=['accuracy'],\n)\n\nhistory = model.fit(\n    ds_train,\n    validation_data=ds_valid,\n    epochs=10,\n)",
   "execution_count": null,
   "outputs": [
    {
     "name": "stdout",
     "text": "Epoch 1/10\n/shared-libs/python3.7/py/lib/python3.7/site-packages/tensorflow/python/util/dispatch.py:1082: UserWarning: \"`sparse_categorical_crossentropy` received `from_logits=True`, but the `output` argument was produced by a sigmoid or softmax activation and thus does not represent logits. Was this intended?\"\n  return dispatch_target(*args, **kwargs)\n68/68 [==============================] - 46s 666ms/step - loss: 2.1523 - accuracy: 0.2029 - val_loss: 3.2561 - val_accuracy: 0.0605\nEpoch 2/10\n68/68 [==============================] - 38s 562ms/step - loss: 1.6324 - accuracy: 0.4296 - val_loss: 4.2235 - val_accuracy: 0.0518\nEpoch 3/10\n68/68 [==============================] - 39s 568ms/step - loss: 1.1609 - accuracy: 0.6003 - val_loss: 4.7580 - val_accuracy: 0.0518\nEpoch 4/10\n68/68 [==============================] - 39s 573ms/step - loss: 0.6825 - accuracy: 0.7893 - val_loss: 5.8605 - val_accuracy: 0.0778\nEpoch 5/10\n68/68 [==============================] - 39s 575ms/step - loss: 0.3999 - accuracy: 0.8772 - val_loss: 7.5483 - val_accuracy: 0.0734\nEpoch 6/10\n68/68 [==============================] - 39s 574ms/step - loss: 0.2618 - accuracy: 0.9232 - val_loss: 8.5224 - val_accuracy: 0.0626\nEpoch 7/10\n68/68 [==============================] - 39s 570ms/step - loss: 0.0920 - accuracy: 0.9784 - val_loss: 11.2120 - val_accuracy: 0.0626\nEpoch 8/10\n68/68 [==============================] - 39s 578ms/step - loss: 0.0479 - accuracy: 0.9913 - val_loss: 12.0321 - val_accuracy: 0.0605\nEpoch 9/10\n68/68 [==============================] - 39s 568ms/step - loss: 0.0332 - accuracy: 0.9940 - val_loss: 11.2673 - val_accuracy: 0.0713\nEpoch 10/10\n68/68 [==============================] - 39s 576ms/step - loss: 0.0274 - accuracy: 0.9954 - val_loss: 12.3947 - val_accuracy: 0.0626\n",
     "output_type": "stream"
    }
   ]
  },
  {
   "cell_type": "code",
   "metadata": {
    "tags": [],
    "deepnote_to_be_reexecuted": false,
    "source_hash": "fc829052",
    "execution_start": 1649760454054,
    "execution_millis": 265,
    "cell_id": "00012-c6f98cb6-7e4b-4925-8c7f-d5c38ea189a1",
    "owner_user_id": "4ffd0e12-c633-4f4a-8a0a-9942ba78ed45",
    "deepnote_cell_type": "code",
    "deepnote_cell_height": 587.2000122070312,
    "deepnote_output_heights": [
     null,
     268
    ]
   },
   "source": "plt.plot(history.history['accuracy'], label='accuracy')\nplt.plot(history.history['val_accuracy'], label = 'val_accuracy')\nplt.xlabel('Epoch')\nplt.ylabel('Accuracy')\nplt.ylim([0.5, 1])\nplt.legend(loc='lower right')\n\n\n",
   "execution_count": null,
   "outputs": [
    {
     "output_type": "error",
     "ename": "NameError",
     "evalue": "name 'test_images' is not defined",
     "traceback": [
      "\u001b[0;31m---------------------------------------------------------------------------\u001b[0m",
      "\u001b[0;31mNameError\u001b[0m                                 Traceback (most recent call last)",
      "\u001b[0;32m<ipython-input-28-f4d76527f34b>\u001b[0m in \u001b[0;36m<module>\u001b[0;34m\u001b[0m\n\u001b[1;32m      6\u001b[0m \u001b[0mplt\u001b[0m\u001b[0;34m.\u001b[0m\u001b[0mlegend\u001b[0m\u001b[0;34m(\u001b[0m\u001b[0mloc\u001b[0m\u001b[0;34m=\u001b[0m\u001b[0;34m'lower right'\u001b[0m\u001b[0;34m)\u001b[0m\u001b[0;34m\u001b[0m\u001b[0;34m\u001b[0m\u001b[0m\n\u001b[1;32m      7\u001b[0m \u001b[0;34m\u001b[0m\u001b[0m\n\u001b[0;32m----> 8\u001b[0;31m \u001b[0mtest_loss\u001b[0m\u001b[0;34m,\u001b[0m \u001b[0mtest_acc\u001b[0m \u001b[0;34m=\u001b[0m \u001b[0mmodel\u001b[0m\u001b[0;34m.\u001b[0m\u001b[0mevaluate\u001b[0m\u001b[0;34m(\u001b[0m\u001b[0mtest_images\u001b[0m\u001b[0;34m,\u001b[0m  \u001b[0mtest_labels\u001b[0m\u001b[0;34m,\u001b[0m \u001b[0mverbose\u001b[0m\u001b[0;34m=\u001b[0m\u001b[0;36m2\u001b[0m\u001b[0;34m)\u001b[0m\u001b[0;34m\u001b[0m\u001b[0;34m\u001b[0m\u001b[0m\n\u001b[0m",
      "\u001b[0;31mNameError\u001b[0m: name 'test_images' is not defined"
     ]
    },
    {
     "data": {
      "text/plain": "<Figure size 432x288 with 1 Axes>",
      "image/png": "[encoded data removed]"
     },
     "metadata": {
      "needs_background": "light",
      "image/png": {
       "width": 386,
       "height": 266
      }
     },
     "output_type": "display_data"
    }
   ]
  },
  {
   "cell_type": "markdown",
   "source": "<a style='text-decoration:none;line-height:16px;display:flex;color:#5B5B62;padding:10px;justify-content:end;' href='https://deepnote.com?utm_source=created-in-deepnote-cell&projectId=93aceac2-8452-469e-8b02-c16d0438aa9c' target=\"_blank\">\n<img alt='Created in deepnote.com' style='display:inline;max-height:16px;margin:0px;margin-right:7.5px;' src='data:image/svg+xml;base64,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' > </img>\nCreated in <span style='font-weight:600;margin-left:4px;'>Deepnote</span></a>",
   "metadata": {
    "tags": [],
    "created_in_deepnote_cell": true,
    "deepnote_cell_type": "markdown"
   }
  }
 ],
 "nbformat": 4,
 "nbformat_minor": 2,
 "metadata": {
  "orig_nbformat": 2,
  "deepnote": {
   "is_reactive": false
  },
  "deepnote_notebook_id": "9aadf05a-fca7-4caf-8446-79bbfa45483b",
  "deepnote_execution_queue": []
 }
}